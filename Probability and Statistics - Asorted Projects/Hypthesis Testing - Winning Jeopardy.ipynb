{
 "cells": [
  {
   "attachments": {},
   "cell_type": "markdown",
   "id": "93d711cd-5fd3-4739-9f13-27491f938172",
   "metadata": {},
   "source": [
    "# Project: Winning Jeopardy\n",
    "---"
   ]
  },
  {
   "attachments": {},
   "cell_type": "markdown",
   "id": "da952e1f-7076-41c6-aac6-0c56ab2fc5e3",
   "metadata": {},
   "source": [
    "## 1. Overview\n",
    "---"
   ]
  },
  {
   "attachments": {},
   "cell_type": "markdown",
   "id": "19224fb7-70db-440a-8baf-99d23dfa78e5",
   "metadata": {},
   "source": [
    "In this project a dataset of Jeopardy (USA TV game show) questions will be used to figure out some patterns in the questions that could aid in winning the game show.\n",
    "\n",
    "The dataset used is `jeopardy.csv`, which contains `20,000` rows. The columns/variables within the dataset are as follows:\n",
    "\n",
    "- `Show Number` - the Jeopardy episode number\n",
    "- `Air Date` - the date the episode aired\n",
    "- `Round` - the round of Jeopardy\n",
    "- `Category` - the category of the question\n",
    "- `Value` - the number of dollars the correct answer is worth\n",
    "- `Question` - the text of the question\n",
    "- `Answer` - the text of the answer\n",
    "---"
   ]
  },
  {
   "cell_type": "code",
   "execution_count": 14,
   "id": "076acb70-1312-48c4-b9e5-4f81a23987a7",
   "metadata": {},
   "outputs": [],
   "source": [
    "# Importing libraries used throughout this lession\n",
    "import pandas as pd\n",
    "import numpy as np\n",
    "import string\n",
    "import collections  # for creating dictionary freqeuncy tables\n",
    "from random import choice\n",
    "from scipy.stats import chisquare"
   ]
  },
  {
   "attachments": {},
   "cell_type": "markdown",
   "id": "e7f27260-5dd5-41f9-bc03-51dc1837ec23",
   "metadata": {},
   "source": [
    "## 2. Exploring and Preparing the Data\n",
    "---"
   ]
  },
  {
   "cell_type": "code",
   "execution_count": 15,
   "id": "2fddc914-5a9e-447e-bf50-decce60e0e0e",
   "metadata": {},
   "outputs": [
    {
     "data": {
      "text/html": [
       "<div>\n",
       "<style scoped>\n",
       "    .dataframe tbody tr th:only-of-type {\n",
       "        vertical-align: middle;\n",
       "    }\n",
       "\n",
       "    .dataframe tbody tr th {\n",
       "        vertical-align: top;\n",
       "    }\n",
       "\n",
       "    .dataframe thead th {\n",
       "        text-align: right;\n",
       "    }\n",
       "</style>\n",
       "<table border=\"1\" class=\"dataframe\">\n",
       "  <thead>\n",
       "    <tr style=\"text-align: right;\">\n",
       "      <th></th>\n",
       "      <th>Show Number</th>\n",
       "      <th>Air Date</th>\n",
       "      <th>Round</th>\n",
       "      <th>Category</th>\n",
       "      <th>Value</th>\n",
       "      <th>Question</th>\n",
       "      <th>Answer</th>\n",
       "    </tr>\n",
       "  </thead>\n",
       "  <tbody>\n",
       "    <tr>\n",
       "      <th>0</th>\n",
       "      <td>4680</td>\n",
       "      <td>2004-12-31</td>\n",
       "      <td>Jeopardy!</td>\n",
       "      <td>HISTORY</td>\n",
       "      <td>$200</td>\n",
       "      <td>For the last 8 years of his life, Galileo was ...</td>\n",
       "      <td>Copernicus</td>\n",
       "    </tr>\n",
       "    <tr>\n",
       "      <th>1</th>\n",
       "      <td>4680</td>\n",
       "      <td>2004-12-31</td>\n",
       "      <td>Jeopardy!</td>\n",
       "      <td>ESPN's TOP 10 ALL-TIME ATHLETES</td>\n",
       "      <td>$200</td>\n",
       "      <td>No. 2: 1912 Olympian; football star at Carlisl...</td>\n",
       "      <td>Jim Thorpe</td>\n",
       "    </tr>\n",
       "    <tr>\n",
       "      <th>2</th>\n",
       "      <td>4680</td>\n",
       "      <td>2004-12-31</td>\n",
       "      <td>Jeopardy!</td>\n",
       "      <td>EVERYBODY TALKS ABOUT IT...</td>\n",
       "      <td>$200</td>\n",
       "      <td>The city of Yuma in this state has a record av...</td>\n",
       "      <td>Arizona</td>\n",
       "    </tr>\n",
       "  </tbody>\n",
       "</table>\n",
       "</div>"
      ],
      "text/plain": [
       "   Show Number    Air Date      Round                         Category  Value   \n",
       "0         4680  2004-12-31  Jeopardy!                          HISTORY   $200  \\\n",
       "1         4680  2004-12-31  Jeopardy!  ESPN's TOP 10 ALL-TIME ATHLETES   $200   \n",
       "2         4680  2004-12-31  Jeopardy!      EVERYBODY TALKS ABOUT IT...   $200   \n",
       "\n",
       "                                            Question      Answer  \n",
       "0  For the last 8 years of his life, Galileo was ...  Copernicus  \n",
       "1  No. 2: 1912 Olympian; football star at Carlisl...  Jim Thorpe  \n",
       "2  The city of Yuma in this state has a record av...     Arizona  "
      ]
     },
     "execution_count": 15,
     "metadata": {},
     "output_type": "execute_result"
    }
   ],
   "source": [
    "# Reading jeopardy.csv as pandas datafranme (df)\n",
    "jeop_df = pd.read_csv('data/jeopardy.csv', low_memory=False)\n",
    "\n",
    "# display first three rows\n",
    "jeop_df.head(3)"
   ]
  },
  {
   "attachments": {},
   "cell_type": "markdown",
   "id": "cc99029d-c886-4f33-9b25-3fca58ddc600",
   "metadata": {},
   "source": [
    "### 2.1. Fixing Column Names\n",
    "---"
   ]
  },
  {
   "attachments": {},
   "cell_type": "markdown",
   "id": "892f63fd-61f1-4112-90d9-5674d6f74a26",
   "metadata": {},
   "source": [
    "This section simply cleans up the column names by removing white space before and after the column label."
   ]
  },
  {
   "cell_type": "code",
   "execution_count": 16,
   "id": "86aa2da6-dc3f-4467-a13b-7d478a4563db",
   "metadata": {},
   "outputs": [
    {
     "data": {
      "text/plain": [
       "Index(['Show Number', ' Air Date', ' Round', ' Category', ' Value',\n",
       "       ' Question', ' Answer'],\n",
       "      dtype='object')"
      ]
     },
     "execution_count": 16,
     "metadata": {},
     "output_type": "execute_result"
    }
   ],
   "source": [
    "# checking column names\n",
    "jeop_df.columns"
   ]
  },
  {
   "cell_type": "code",
   "execution_count": 17,
   "id": "818494ef-b415-473e-93f3-f00fefe1234e",
   "metadata": {},
   "outputs": [
    {
     "data": {
      "text/plain": [
       "Index(['Show Number', 'Air Date', 'Round', 'Category', 'Value', 'Question',\n",
       "       'Answer'],\n",
       "      dtype='object')"
      ]
     },
     "execution_count": 17,
     "metadata": {},
     "output_type": "execute_result"
    }
   ],
   "source": [
    "# remove spaces from column names\n",
    "jeop_df.columns = jeop_df.columns.str.strip()\n",
    "\n",
    "# checking column names again\n",
    "jeop_df.columns"
   ]
  },
  {
   "attachments": {},
   "cell_type": "markdown",
   "id": "8d85caf0-a414-4418-be8d-ed70ae09821d",
   "metadata": {},
   "source": [
    "### 2.2. Normalising Text\n",
    "---"
   ]
  },
  {
   "attachments": {},
   "cell_type": "markdown",
   "id": "4804b444-943d-4e72-a077-8525fd4db2ab",
   "metadata": {},
   "source": [
    "This section is about normalising the text in both the questions and answers column. They will be converted to lowercase with punctuation removed to make comparing words like for like much easier."
   ]
  },
  {
   "cell_type": "code",
   "execution_count": 18,
   "id": "5d6728f5-47df-453c-b74b-718ce9dd8b41",
   "metadata": {},
   "outputs": [],
   "source": [
    "import string  # this is here as a reminder that this library is being used\n",
    "\n",
    "def normalise_text(text: str) -> str:\n",
    "    \n",
    "    \"\"\"\n",
    "        This function normalizes text by converting it to lowercase and removing all punctuation.\n",
    "\n",
    "        Args:\n",
    "            text (str): A string to be normalized.\n",
    "\n",
    "        Returns:\n",
    "            str: The normalized string.\n",
    "    \"\"\"\n",
    "    \n",
    "    # Convert the text to lowercase\n",
    "    text = text.lower()\n",
    "    \n",
    "    # Remove all punctuation from the text\n",
    "    text = text.translate(str.maketrans(\"\", \"\", string.punctuation))\n",
    "    \n",
    "    return text"
   ]
  },
  {
   "cell_type": "code",
   "execution_count": 19,
   "id": "e3f59007-c332-4ada-a695-8f16aff41d41",
   "metadata": {},
   "outputs": [
    {
     "data": {
      "text/html": [
       "<div>\n",
       "<style scoped>\n",
       "    .dataframe tbody tr th:only-of-type {\n",
       "        vertical-align: middle;\n",
       "    }\n",
       "\n",
       "    .dataframe tbody tr th {\n",
       "        vertical-align: top;\n",
       "    }\n",
       "\n",
       "    .dataframe thead th {\n",
       "        text-align: right;\n",
       "    }\n",
       "</style>\n",
       "<table border=\"1\" class=\"dataframe\">\n",
       "  <thead>\n",
       "    <tr style=\"text-align: right;\">\n",
       "      <th></th>\n",
       "      <th>Show Number</th>\n",
       "      <th>Air Date</th>\n",
       "      <th>Round</th>\n",
       "      <th>Category</th>\n",
       "      <th>Value</th>\n",
       "      <th>Question</th>\n",
       "      <th>Answer</th>\n",
       "      <th>clean_question</th>\n",
       "      <th>clean_answer</th>\n",
       "    </tr>\n",
       "  </thead>\n",
       "  <tbody>\n",
       "    <tr>\n",
       "      <th>0</th>\n",
       "      <td>4680</td>\n",
       "      <td>2004-12-31</td>\n",
       "      <td>Jeopardy!</td>\n",
       "      <td>HISTORY</td>\n",
       "      <td>$200</td>\n",
       "      <td>For the last 8 years of his life, Galileo was ...</td>\n",
       "      <td>Copernicus</td>\n",
       "      <td>for the last 8 years of his life galileo was u...</td>\n",
       "      <td>copernicus</td>\n",
       "    </tr>\n",
       "    <tr>\n",
       "      <th>1</th>\n",
       "      <td>4680</td>\n",
       "      <td>2004-12-31</td>\n",
       "      <td>Jeopardy!</td>\n",
       "      <td>ESPN's TOP 10 ALL-TIME ATHLETES</td>\n",
       "      <td>$200</td>\n",
       "      <td>No. 2: 1912 Olympian; football star at Carlisl...</td>\n",
       "      <td>Jim Thorpe</td>\n",
       "      <td>no 2 1912 olympian football star at carlisle i...</td>\n",
       "      <td>jim thorpe</td>\n",
       "    </tr>\n",
       "    <tr>\n",
       "      <th>2</th>\n",
       "      <td>4680</td>\n",
       "      <td>2004-12-31</td>\n",
       "      <td>Jeopardy!</td>\n",
       "      <td>EVERYBODY TALKS ABOUT IT...</td>\n",
       "      <td>$200</td>\n",
       "      <td>The city of Yuma in this state has a record av...</td>\n",
       "      <td>Arizona</td>\n",
       "      <td>the city of yuma in this state has a record av...</td>\n",
       "      <td>arizona</td>\n",
       "    </tr>\n",
       "  </tbody>\n",
       "</table>\n",
       "</div>"
      ],
      "text/plain": [
       "   Show Number    Air Date      Round                         Category Value   \n",
       "0         4680  2004-12-31  Jeopardy!                          HISTORY  $200  \\\n",
       "1         4680  2004-12-31  Jeopardy!  ESPN's TOP 10 ALL-TIME ATHLETES  $200   \n",
       "2         4680  2004-12-31  Jeopardy!      EVERYBODY TALKS ABOUT IT...  $200   \n",
       "\n",
       "                                            Question      Answer   \n",
       "0  For the last 8 years of his life, Galileo was ...  Copernicus  \\\n",
       "1  No. 2: 1912 Olympian; football star at Carlisl...  Jim Thorpe   \n",
       "2  The city of Yuma in this state has a record av...     Arizona   \n",
       "\n",
       "                                      clean_question clean_answer  \n",
       "0  for the last 8 years of his life galileo was u...   copernicus  \n",
       "1  no 2 1912 olympian football star at carlisle i...   jim thorpe  \n",
       "2  the city of yuma in this state has a record av...      arizona  "
      ]
     },
     "execution_count": 19,
     "metadata": {},
     "output_type": "execute_result"
    }
   ],
   "source": [
    "# applying the text normalising function to the quesitons and answers columns\n",
    "jeop_df['clean_question'] = jeop_df['Question'].apply(normalise_text)\n",
    "jeop_df['clean_answer'] = jeop_df['Answer'].apply(normalise_text)\n",
    "\n",
    "# display first three rows to check result\n",
    "jeop_df.head(3)"
   ]
  },
  {
   "attachments": {},
   "cell_type": "markdown",
   "id": "96c7a6a9-3301-493d-b278-20cc07dd111b",
   "metadata": {},
   "source": [
    "### 2.3. Normalising Columns\n",
    "---"
   ]
  },
  {
   "attachments": {},
   "cell_type": "markdown",
   "id": "6fc1b7cf-577e-4a6d-91da-18d23aafe728",
   "metadata": {},
   "source": [
    "In this section the `Value` column is converted in to numerical type by removing the `$` sign and casting the string as an int. Additional the `Air Date` column is converted into dateTime type."
   ]
  },
  {
   "cell_type": "code",
   "execution_count": 20,
   "id": "a88685dc-5054-4d0e-98d7-22246cf07079",
   "metadata": {},
   "outputs": [
    {
     "name": "stdout",
     "output_type": "stream",
     "text": [
      "<class 'pandas.core.frame.DataFrame'>\n",
      "RangeIndex: 19999 entries, 0 to 19998\n",
      "Data columns (total 9 columns):\n",
      " #   Column          Non-Null Count  Dtype \n",
      "---  ------          --------------  ----- \n",
      " 0   Show Number     19999 non-null  int64 \n",
      " 1   Air Date        19999 non-null  object\n",
      " 2   Round           19999 non-null  object\n",
      " 3   Category        19999 non-null  object\n",
      " 4   Value           19663 non-null  object\n",
      " 5   Question        19999 non-null  object\n",
      " 6   Answer          19999 non-null  object\n",
      " 7   clean_question  19999 non-null  object\n",
      " 8   clean_answer    19999 non-null  object\n",
      "dtypes: int64(1), object(8)\n",
      "memory usage: 1.4+ MB\n"
     ]
    }
   ],
   "source": [
    "# checking column value types\n",
    "jeop_df.info()"
   ]
  },
  {
   "cell_type": "code",
   "execution_count": 21,
   "id": "ac52cf00-dd9f-4401-9ab7-d1d721159a38",
   "metadata": {},
   "outputs": [],
   "source": [
    "import string  # this is here as a reminder that this library is being used\n",
    "\n",
    "def normalize_dollar_value(value: str) -> int:\n",
    "    \n",
    "    \"\"\"\n",
    "        This function normalizes dollar values by removing punctuation, converting to an integer,\n",
    "        and returning 0 if the conversion fails.\n",
    "\n",
    "        Args:\n",
    "            text (str): A string representing a dollar value.\n",
    "\n",
    "        Returns:\n",
    "            int: The normalized dollar value as an integer.\n",
    "    \"\"\"\n",
    "    \n",
    "    if isinstance(value, str):\n",
    "        # Remove punctuation from string\n",
    "        text_without_punctuation = value.translate(str.maketrans(\"\", \"\", string.punctuation))\n",
    "        # Convert the text to an integer\n",
    "        try:\n",
    "            return int(text_without_punctuation)\n",
    "        except ValueError:\n",
    "            return None\n",
    "    elif isinstance(value, float) and np.isnan(value):\n",
    "        # Handle NaN values\n",
    "        return None\n",
    "    elif isinstance(value, float):\n",
    "        # Handle float values\n",
    "        return int(value)\n",
    "    else:\n",
    "        return None"
   ]
  },
  {
   "cell_type": "code",
   "execution_count": 22,
   "id": "616fb295-0552-42f4-9c35-abfb9dfb9e60",
   "metadata": {},
   "outputs": [
    {
     "data": {
      "text/html": [
       "<div>\n",
       "<style scoped>\n",
       "    .dataframe tbody tr th:only-of-type {\n",
       "        vertical-align: middle;\n",
       "    }\n",
       "\n",
       "    .dataframe tbody tr th {\n",
       "        vertical-align: top;\n",
       "    }\n",
       "\n",
       "    .dataframe thead th {\n",
       "        text-align: right;\n",
       "    }\n",
       "</style>\n",
       "<table border=\"1\" class=\"dataframe\">\n",
       "  <thead>\n",
       "    <tr style=\"text-align: right;\">\n",
       "      <th></th>\n",
       "      <th>Show Number</th>\n",
       "      <th>Air Date</th>\n",
       "      <th>Round</th>\n",
       "      <th>Category</th>\n",
       "      <th>Value</th>\n",
       "      <th>Question</th>\n",
       "      <th>Answer</th>\n",
       "      <th>clean_question</th>\n",
       "      <th>clean_answer</th>\n",
       "      <th>clean_value</th>\n",
       "    </tr>\n",
       "  </thead>\n",
       "  <tbody>\n",
       "    <tr>\n",
       "      <th>0</th>\n",
       "      <td>4680</td>\n",
       "      <td>2004-12-31</td>\n",
       "      <td>Jeopardy!</td>\n",
       "      <td>HISTORY</td>\n",
       "      <td>$200</td>\n",
       "      <td>For the last 8 years of his life, Galileo was ...</td>\n",
       "      <td>Copernicus</td>\n",
       "      <td>for the last 8 years of his life galileo was u...</td>\n",
       "      <td>copernicus</td>\n",
       "      <td>200.0</td>\n",
       "    </tr>\n",
       "    <tr>\n",
       "      <th>1</th>\n",
       "      <td>4680</td>\n",
       "      <td>2004-12-31</td>\n",
       "      <td>Jeopardy!</td>\n",
       "      <td>ESPN's TOP 10 ALL-TIME ATHLETES</td>\n",
       "      <td>$200</td>\n",
       "      <td>No. 2: 1912 Olympian; football star at Carlisl...</td>\n",
       "      <td>Jim Thorpe</td>\n",
       "      <td>no 2 1912 olympian football star at carlisle i...</td>\n",
       "      <td>jim thorpe</td>\n",
       "      <td>200.0</td>\n",
       "    </tr>\n",
       "    <tr>\n",
       "      <th>2</th>\n",
       "      <td>4680</td>\n",
       "      <td>2004-12-31</td>\n",
       "      <td>Jeopardy!</td>\n",
       "      <td>EVERYBODY TALKS ABOUT IT...</td>\n",
       "      <td>$200</td>\n",
       "      <td>The city of Yuma in this state has a record av...</td>\n",
       "      <td>Arizona</td>\n",
       "      <td>the city of yuma in this state has a record av...</td>\n",
       "      <td>arizona</td>\n",
       "      <td>200.0</td>\n",
       "    </tr>\n",
       "  </tbody>\n",
       "</table>\n",
       "</div>"
      ],
      "text/plain": [
       "   Show Number    Air Date      Round                         Category Value   \n",
       "0         4680  2004-12-31  Jeopardy!                          HISTORY  $200  \\\n",
       "1         4680  2004-12-31  Jeopardy!  ESPN's TOP 10 ALL-TIME ATHLETES  $200   \n",
       "2         4680  2004-12-31  Jeopardy!      EVERYBODY TALKS ABOUT IT...  $200   \n",
       "\n",
       "                                            Question      Answer   \n",
       "0  For the last 8 years of his life, Galileo was ...  Copernicus  \\\n",
       "1  No. 2: 1912 Olympian; football star at Carlisl...  Jim Thorpe   \n",
       "2  The city of Yuma in this state has a record av...     Arizona   \n",
       "\n",
       "                                      clean_question clean_answer  clean_value  \n",
       "0  for the last 8 years of his life galileo was u...   copernicus        200.0  \n",
       "1  no 2 1912 olympian football star at carlisle i...   jim thorpe        200.0  \n",
       "2  the city of yuma in this state has a record av...      arizona        200.0  "
      ]
     },
     "execution_count": 22,
     "metadata": {},
     "output_type": "execute_result"
    }
   ],
   "source": [
    "# applying the text normalize_dollar_value function to Value column\n",
    "jeop_df['clean_value'] = jeop_df['Value'].apply(normalize_dollar_value)\n",
    "\n",
    "# Displaying first three rows to check changes\n",
    "jeop_df.head(3)"
   ]
  },
  {
   "cell_type": "code",
   "execution_count": 23,
   "id": "f88af019-9407-4238-acd2-56884d729850",
   "metadata": {},
   "outputs": [
    {
     "name": "stdout",
     "output_type": "stream",
     "text": [
      "<class 'pandas.core.series.Series'>\n",
      "RangeIndex: 19999 entries, 0 to 19998\n",
      "Series name: Air Date\n",
      "Non-Null Count  Dtype         \n",
      "--------------  -----         \n",
      "19999 non-null  datetime64[ns]\n",
      "dtypes: datetime64[ns](1)\n",
      "memory usage: 156.4 KB\n"
     ]
    }
   ],
   "source": [
    "# Convert the Air Date column to datetime\n",
    "jeop_df['Air Date'] = pd.to_datetime(jeop_df['Air Date'])\n",
    "\n",
    "# checking column value types\n",
    "jeop_df['Air Date'].info()"
   ]
  },
  {
   "attachments": {},
   "cell_type": "markdown",
   "id": "cfdecd93-aea0-48dd-8c51-31dc8cb28227",
   "metadata": {},
   "source": [
    "## 3. Answers in Questions and Repeating Questions\n",
    "---"
   ]
  },
  {
   "attachments": {},
   "cell_type": "markdown",
   "id": "e1a0acfb-439d-44a1-8128-d1ea73fc5bc1",
   "metadata": {},
   "source": [
    "In order to figure out whether to study past questions, study general knowledge, or not study it all, it would be helpful to figure out two things:\n",
    "\n",
    "1. How often the answer can be used for a question.\n",
    "2. How often questions are repeated.\n",
    "\n",
    "The first question can be answered by checking how many times words in the answer appear in the quesiton. As for the second this can be answered by checking how often complex words (> 6 char) reoccur."
   ]
  },
  {
   "attachments": {},
   "cell_type": "markdown",
   "id": "f2f9d6d4-67fd-4a49-b6a9-bed65bd77300",
   "metadata": {},
   "source": [
    "### 3.1. Answer Appearing in the Question\n",
    "---"
   ]
  },
  {
   "cell_type": "code",
   "execution_count": 24,
   "id": "9076cec0-4781-4e20-a7a0-d9a40ddcc176",
   "metadata": {},
   "outputs": [],
   "source": [
    "def match_count(series):\n",
    "    \"\"\"\n",
    "        This function takes in a row in Jeopardy as a Pandas Series, and \n",
    "        returns the ratio of how many words in the answer also appear in the question.\n",
    "\n",
    "        Args:\n",
    "            series: A Pandas Series containing a row of Jeopardy data.\n",
    "\n",
    "        Returns:\n",
    "            The ratio of how many words in the answer also appear in the question, \n",
    "            as a float between 0 and 1.\n",
    "    \"\"\"\n",
    "    # Split the clean_answer column around spaces and assign to the variable split_answer.\n",
    "    split_answer = series['clean_answer'].split()\n",
    "    # Split the clean_question column around spaces and assign to the variable split_question.\n",
    "    split_question = series['clean_question'].split()\n",
    "    \n",
    "    # Create a variable called match_count, and set it to 0.\n",
    "    match_count = 0\n",
    "    \n",
    "    # If the word \"the\" is in split_answer, remove it using the remove method on lists.\n",
    "    # The word \"the\" doesn't have any meaningful use in finding the answer.\n",
    "    if \"the\" in split_answer:\n",
    "        split_answer.remove(\"the\")\n",
    "        \n",
    "    # If the length of split_answer is 0, return 0. This prevents a division by zero error later.\n",
    "    if len(split_answer) == 0:\n",
    "        return 0\n",
    "    \n",
    "    # Loop through each item in split_answer, and see if it occurs in split_question. \n",
    "    # If it does, add 1 to match_count.\n",
    "    for word in split_answer:\n",
    "        if word in split_question:\n",
    "            match_count += 1\n",
    "            \n",
    "    # Divide match_count by the length of split_answer, and return the result.\n",
    "    return match_count / len(split_answer)\n",
    "    "
   ]
  },
  {
   "cell_type": "code",
   "execution_count": 25,
   "id": "90ffbf9a-8e36-4fa3-a26b-f4c1caccc552",
   "metadata": {},
   "outputs": [
    {
     "data": {
      "text/plain": [
       "0.058861482035140716"
      ]
     },
     "execution_count": 25,
     "metadata": {},
     "output_type": "execute_result"
    }
   ],
   "source": [
    "# Apply the match_count function to each row in the DataFrame, \n",
    "# and assign the result to a new column called 'answer_in_question'\n",
    "jeop_df['answer_in_question'] = jeop_df.apply(match_count, axis=1)\n",
    "\n",
    "jeop_df['answer_in_question'].mean()"
   ]
  },
  {
   "attachments": {},
   "cell_type": "markdown",
   "id": "5abbb867-f309-4b43-b7f3-a2bbac57ce40",
   "metadata": {},
   "source": [
    "---\n",
    "**Observatino from this section (3.1.)**\n",
    "\n",
    "On average the answer only makes up about `6%` of the question. This is not large and so a contestant can not rely on hearing the question and inferring the answer from it."
   ]
  },
  {
   "attachments": {},
   "cell_type": "markdown",
   "id": "bdec1b60-3cf5-4ad9-ab46-f4c497ff8316",
   "metadata": {},
   "source": [
    "### 3.2. Repeating Questions\n",
    "---"
   ]
  },
  {
   "attachments": {},
   "cell_type": "markdown",
   "id": "ccdd321a-e49e-49d9-b210-5e6bb32aa08c",
   "metadata": {},
   "source": [
    "The dataset being used only makes up about `10%` all Jeopardy questions so it's not possible to completely answer the question how often questions are repeat. However, it can still be investigated, so in this section that's what we will do."
   ]
  },
  {
   "cell_type": "code",
   "execution_count": 26,
   "id": "1fdf16bf-e626-42f8-bf0a-a3971bc10173",
   "metadata": {},
   "outputs": [
    {
     "data": {
      "text/plain": [
       "0.687124288096678"
      ]
     },
     "execution_count": 26,
     "metadata": {},
     "output_type": "execute_result"
    }
   ],
   "source": [
    "import collections  # this is here as a reminder that this library is being used\n",
    "\n",
    "# Sorting the df by dateTime column in ascending order\n",
    "jeop_df.sort_values(by='Air Date', inplace=True)\n",
    "\n",
    "question_overlap = []\n",
    "terms_used = set()\n",
    "\n",
    "for index, row in jeop_df.iterrows():\n",
    "    \n",
    "    # splitting string into a list of words\n",
    "    split_question = row['clean_question'].split(' ')\n",
    "    \n",
    "    # Filtering split_question list by words >=6 char long\n",
    "    split_question = [s for s in split_question if len(s) >= 6]\n",
    "    \n",
    "    match_count = 0\n",
    "    for word in split_question:\n",
    "        if word in terms_used:\n",
    "            match_count += 1\n",
    "            \n",
    "    for word in split_question:\n",
    "        terms_used.add(word)\n",
    "    \n",
    "    if len(split_question) > 0:\n",
    "        match_count /= len(split_question)\n",
    "        \n",
    "    question_overlap.append(match_count)\n",
    "    \n",
    "    \n",
    "jeop_df[\"question_overlap\"] = question_overlap\n",
    "jeop_df[\"question_overlap\"].mean()"
   ]
  },
  {
   "attachments": {},
   "cell_type": "markdown",
   "id": "14b951da-97a1-4c7b-8254-17988727bc3c",
   "metadata": {},
   "source": [
    "---\n",
    "**Observatino from this section (3.2.)**\n",
    "\n",
    "The is a `69%` overlap between terms (words) in new questions when compared to older questions. This likely insignificant however, as this analysis is only considering words, excluding only `the`, and does not consider phrases. This analysis does however, give more reason to consider the possibility of recycled questions."
   ]
  },
  {
   "attachments": {},
   "cell_type": "markdown",
   "id": "0f854c8f-cf57-4209-8f86-e42d35fbbaea",
   "metadata": {},
   "source": [
    "## 4. Considering Low Value vs. High Value Questions\n",
    "---"
   ]
  },
  {
   "attachments": {},
   "cell_type": "markdown",
   "id": "ca572d0a-8cc7-423f-b33d-8a5851e751d4",
   "metadata": {},
   "source": [
    "This section will consider whether studying for high value questions instead of low value questions is worth it. This can be achieved by figuring out which terms correspond to high-value questions using a Chi-squared test. First the value of the questions will need to be split into two categories:\n",
    "\n",
    "- Low value: Any row where `Value` is less than `800`.\n",
    "- High value: Any row where `Value` is greater than `800`.\n",
    "\n",
    "Then looping through each terms in in `terms_used` set and:\n",
    "\n",
    "- Find the number of low value questions the word occurs in.\n",
    "- Find the number of high value questions the word occurs in.\n",
    "- Find the percentage of questions the word occurs in.\n",
    "- Based on the percentage of questions the word occurs in, find expected counts.\n",
    "- Compute the chi squared value based on the expected counts and the observed counts for high and low value questions."
   ]
  },
  {
   "cell_type": "code",
   "execution_count": 27,
   "id": "36494ce6-ba9a-40fd-af24-4ded506fe64a",
   "metadata": {},
   "outputs": [
    {
     "data": {
      "text/html": [
       "<div>\n",
       "<style scoped>\n",
       "    .dataframe tbody tr th:only-of-type {\n",
       "        vertical-align: middle;\n",
       "    }\n",
       "\n",
       "    .dataframe tbody tr th {\n",
       "        vertical-align: top;\n",
       "    }\n",
       "\n",
       "    .dataframe thead th {\n",
       "        text-align: right;\n",
       "    }\n",
       "</style>\n",
       "<table border=\"1\" class=\"dataframe\">\n",
       "  <thead>\n",
       "    <tr style=\"text-align: right;\">\n",
       "      <th></th>\n",
       "      <th>Show Number</th>\n",
       "      <th>Air Date</th>\n",
       "      <th>Round</th>\n",
       "      <th>Category</th>\n",
       "      <th>Value</th>\n",
       "      <th>Question</th>\n",
       "      <th>Answer</th>\n",
       "      <th>clean_question</th>\n",
       "      <th>clean_answer</th>\n",
       "      <th>clean_value</th>\n",
       "      <th>answer_in_question</th>\n",
       "      <th>question_overlap</th>\n",
       "      <th>high_value</th>\n",
       "    </tr>\n",
       "  </thead>\n",
       "  <tbody>\n",
       "    <tr>\n",
       "      <th>17755</th>\n",
       "      <td>3779</td>\n",
       "      <td>2001-01-25</td>\n",
       "      <td>Jeopardy!</td>\n",
       "      <td>STYLISH CELEBRITIES</td>\n",
       "      <td>$500</td>\n",
       "      <td>This brunette beauty won an Emmy for \"Once and...</td>\n",
       "      <td>Sela Ward</td>\n",
       "      <td>this brunette beauty won an emmy for once and ...</td>\n",
       "      <td>sela ward</td>\n",
       "      <td>500.0</td>\n",
       "      <td>0.00</td>\n",
       "      <td>0.600000</td>\n",
       "      <td>0</td>\n",
       "    </tr>\n",
       "    <tr>\n",
       "      <th>11828</th>\n",
       "      <td>3053</td>\n",
       "      <td>1997-12-03</td>\n",
       "      <td>Double Jeopardy!</td>\n",
       "      <td>WORLD CITIES</td>\n",
       "      <td>$600</td>\n",
       "      <td>This Cambodian capital lies at the confluence ...</td>\n",
       "      <td>Phnom Penh</td>\n",
       "      <td>this cambodian capital lies at the confluence ...</td>\n",
       "      <td>phnom penh</td>\n",
       "      <td>600.0</td>\n",
       "      <td>0.00</td>\n",
       "      <td>0.500000</td>\n",
       "      <td>0</td>\n",
       "    </tr>\n",
       "    <tr>\n",
       "      <th>19755</th>\n",
       "      <td>4925</td>\n",
       "      <td>2006-01-27</td>\n",
       "      <td>Jeopardy!</td>\n",
       "      <td>MAGAZINES</td>\n",
       "      <td>$400</td>\n",
       "      <td>Although published by this organization for 62...</td>\n",
       "      <td>the Girl Scouts of America</td>\n",
       "      <td>although published by this organization for 62...</td>\n",
       "      <td>the girl scouts of america</td>\n",
       "      <td>400.0</td>\n",
       "      <td>0.25</td>\n",
       "      <td>0.833333</td>\n",
       "      <td>0</td>\n",
       "    </tr>\n",
       "  </tbody>\n",
       "</table>\n",
       "</div>"
      ],
      "text/plain": [
       "       Show Number   Air Date             Round             Category Value   \n",
       "17755         3779 2001-01-25         Jeopardy!  STYLISH CELEBRITIES  $500  \\\n",
       "11828         3053 1997-12-03  Double Jeopardy!         WORLD CITIES  $600   \n",
       "19755         4925 2006-01-27         Jeopardy!            MAGAZINES  $400   \n",
       "\n",
       "                                                Question   \n",
       "17755  This brunette beauty won an Emmy for \"Once and...  \\\n",
       "11828  This Cambodian capital lies at the confluence ...   \n",
       "19755  Although published by this organization for 62...   \n",
       "\n",
       "                           Answer   \n",
       "17755                   Sela Ward  \\\n",
       "11828                  Phnom Penh   \n",
       "19755  the Girl Scouts of America   \n",
       "\n",
       "                                          clean_question   \n",
       "17755  this brunette beauty won an emmy for once and ...  \\\n",
       "11828  this cambodian capital lies at the confluence ...   \n",
       "19755  although published by this organization for 62...   \n",
       "\n",
       "                     clean_answer  clean_value  answer_in_question   \n",
       "17755                   sela ward        500.0                0.00  \\\n",
       "11828                  phnom penh        600.0                0.00   \n",
       "19755  the girl scouts of america        400.0                0.25   \n",
       "\n",
       "       question_overlap  high_value  \n",
       "17755          0.600000           0  \n",
       "11828          0.500000           0  \n",
       "19755          0.833333           0  "
      ]
     },
     "execution_count": 27,
     "metadata": {},
     "output_type": "execute_result"
    }
   ],
   "source": [
    "# creating a column in jeop_df of boolean 0,1 for high-value questions\n",
    "\n",
    "def question_value(row: pd.Series) -> int:\n",
    "    \n",
    "    # Set the initial value to 0\n",
    "    value = 0\n",
    "    # Check if the clean_value is greater than 800\n",
    "    if row['clean_value'] > 800:\n",
    "        # If the clean_value is greater than 800, set the value to 1\n",
    "        value = 1\n",
    "        \n",
    "    # Return the value\n",
    "    return value\n",
    "\n",
    "# applying the above function to row in the df\n",
    "jeop_df[\"high_value\"] = jeop_df.apply(question_value, axis=1)\n",
    "\n",
    "# display three random rows\n",
    "jeop_df.sample(3)"
   ]
  },
  {
   "cell_type": "code",
   "execution_count": 28,
   "id": "ba2a1314-f7b1-4ada-bab8-31074275e46c",
   "metadata": {},
   "outputs": [
    {
     "data": {
      "text/plain": [
       "[(0, 1),\n",
       " (0, 1),\n",
       " (0, 2),\n",
       " (1, 0),\n",
       " (0, 1),\n",
       " (0, 4),\n",
       " (0, 1),\n",
       " (0, 1),\n",
       " (0, 1),\n",
       " (0, 1)]"
      ]
     },
     "execution_count": 28,
     "metadata": {},
     "output_type": "execute_result"
    }
   ],
   "source": [
    "def count_usage(term):\n",
    "    \n",
    "    # Initialize low and high count to 0\n",
    "    low_count = 0\n",
    "    high_count = 0\n",
    "    \n",
    "    # Loop through each row in jeop_df DataFrame\n",
    "    for index, row in jeop_df.iterrows():\n",
    "        \n",
    "        # Split the clean_question column of the row by space \n",
    "        # and check if term is present in it\n",
    "        if term in row[\"clean_question\"].split(\" \"):\n",
    "            \n",
    "            # If the term is present, check if the question is high \n",
    "            # value or not and increment the respective counter\n",
    "            if row[\"high_value\"] == 1:\n",
    "                high_count += 1\n",
    "            else:\n",
    "                low_count += 1\n",
    "                \n",
    "                \n",
    "    # Return high and low count as a tuple\n",
    "    return high_count, low_count\n",
    "\n",
    "\n",
    "\n",
    "from random import choice # this is here as a reminder that this library is being used\n",
    "\n",
    "# converting terms_used set into a list\n",
    "terms_used_list = list(terms_used)\n",
    "\n",
    "# randomly pick 10 words from terms_used_list \n",
    "comparison_terms = [choice(terms_used_list) for _ in range(10)]\n",
    "\n",
    "observed_expected = []\n",
    "\n",
    "for term in comparison_terms:\n",
    "    observed_expected.append(count_usage(term))\n",
    "\n",
    "observed_expected"
   ]
  },
  {
   "cell_type": "code",
   "execution_count": 29,
   "id": "64cbc089-fdf6-4426-a4a1-dc8f1b729597",
   "metadata": {},
   "outputs": [
    {
     "data": {
      "text/plain": [
       "[Power_divergenceResult(statistic=0.401962846126884, pvalue=0.5260772985705469),\n",
       " Power_divergenceResult(statistic=0.401962846126884, pvalue=0.5260772985705469),\n",
       " Power_divergenceResult(statistic=0.803925692253768, pvalue=0.3699222378079571),\n",
       " Power_divergenceResult(statistic=2.487792117195675, pvalue=0.11473257634454022),\n",
       " Power_divergenceResult(statistic=0.401962846126884, pvalue=0.5260772985705469),\n",
       " Power_divergenceResult(statistic=1.607851384507536, pvalue=0.2047940943922556),\n",
       " Power_divergenceResult(statistic=0.401962846126884, pvalue=0.5260772985705469),\n",
       " Power_divergenceResult(statistic=0.401962846126884, pvalue=0.5260772985705469),\n",
       " Power_divergenceResult(statistic=0.401962846126884, pvalue=0.5260772985705469),\n",
       " Power_divergenceResult(statistic=0.401962846126884, pvalue=0.5260772985705469)]"
      ]
     },
     "execution_count": 29,
     "metadata": {},
     "output_type": "execute_result"
    }
   ],
   "source": [
    "from scipy.stats import chisquare # this is here as a reminder that this library is being used\n",
    "\n",
    "# Counting the number of high and low value rows\n",
    "high_value_count = jeop_df[jeop_df[\"high_value\"] == 1].shape[0]\n",
    "low_value_count = jeop_df[jeop_df[\"high_value\"] == 0].shape[0]\n",
    "\n",
    "# Creating an empty list to store the results of the chi-squared test\n",
    "chi_squared = []\n",
    "\n",
    "# Iterating through each observed-expected pair\n",
    "for obs in observed_expected:\n",
    "    \n",
    "    # Calculating the total number of occurrences for the pair\n",
    "    total = sum(obs)\n",
    "    \n",
    "    # Calculating the proportion of the pair in the entire dataset\n",
    "    total_prop = total / jeop_df.shape[0]\n",
    "    \n",
    "    # Calculating the expected counts for high and low value rows\n",
    "    high_value_exp = total_prop * high_value_count\n",
    "    low_value_exp = total_prop * low_value_count\n",
    "    \n",
    "    # Creating arrays for the observed and expected counts\n",
    "    observed = np.array([obs[0], obs[1]])\n",
    "    expected = np.array([high_value_exp, low_value_exp])\n",
    "    \n",
    "    # Performing the chi-squared test and appending the result to the list\n",
    "    chi_squared.append(chisquare(observed, expected))\n",
    "\n",
    "# Returning the list of chi-squared test results\n",
    "chi_squared"
   ]
  },
  {
   "attachments": {},
   "cell_type": "markdown",
   "id": "ad0830e7-ab4e-486a-84ea-d2115cf1012f",
   "metadata": {},
   "source": [
    "## 5. Chi Results\n",
    "---"
   ]
  },
  {
   "attachments": {},
   "cell_type": "markdown",
   "id": "1d0d8f2c-1d1d-4f2c-a59d-3436a9d99478",
   "metadata": {},
   "source": [
    "The usage of all terms did not show a significant difference between high and low value rows. Moreover, the frequencies of all terms were below `5`, making the chi-squared test less reliable. It is recommended to perform the test using only terms with higher frequencies."
   ]
  },
  {
   "cell_type": "code",
   "execution_count": null,
   "id": "d1b6bc85-eb40-4873-8fe1-b08f04ce3fe1",
   "metadata": {},
   "outputs": [],
   "source": []
  }
 ],
 "metadata": {
  "kernelspec": {
   "display_name": "Python 3 (ipykernel)",
   "language": "python",
   "name": "python3"
  },
  "language_info": {
   "codemirror_mode": {
    "name": "ipython",
    "version": 3
   },
   "file_extension": ".py",
   "mimetype": "text/x-python",
   "name": "python",
   "nbconvert_exporter": "python",
   "pygments_lexer": "ipython3",
   "version": "3.11.3"
  }
 },
 "nbformat": 4,
 "nbformat_minor": 5
}
