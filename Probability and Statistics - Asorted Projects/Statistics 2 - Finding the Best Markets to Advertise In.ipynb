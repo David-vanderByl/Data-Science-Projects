{
 "cells": [
  {
   "attachments": {},
   "cell_type": "markdown",
   "id": "b050ae7d-7cfd-437b-9e6d-e1cd9da952c3",
   "metadata": {},
   "source": [
    "# Project - Finding the Best Markets to Advertise In\n",
    "---"
   ]
  },
  {
   "attachments": {},
   "cell_type": "markdown",
   "id": "41e7df0d-c1ca-4b63-b7fc-684a5fa31381",
   "metadata": {},
   "source": [
    "## 1. Project Overview:\n",
    "---"
   ]
  },
  {
   "attachments": {},
   "cell_type": "markdown",
   "id": "d33bc8dc-0b22-442b-b00b-1dce54a219ad",
   "metadata": {},
   "source": [
    "We will help an e-learning company specializing in programming courses to identify the two best markets for advertising. Using demographic data and information on programming interests and experience, we will perform data analysis on JupyterLab. Our aim is to provide actionable insights to the company by the end of the project.\n",
    "\n",
    "Our goal is to identify the two best markets for advertising an e-learning company's programming courses. While surveys could help us achieve this, they are expensive. Therefore, we will first explore cheaper options, such as searching for existing relevant data. One promising source is the freeCodeCamp's 2017 New Coder Survey, which attracted new coders with varying interests, including web development. We can access the survey data from this public [GitHub repository](https://github.com/freeCodeCamp/2017-new-coder-survey)."
   ]
  },
  {
   "attachments": {},
   "cell_type": "markdown",
   "id": "e83a36b2-861d-4e01-a15f-1da51ad3c6c2",
   "metadata": {},
   "source": [
    "|    |   Age |   AttendedBootcamp |   BootcampFinish |   BootcampLoanYesNo |   BootcampName |   BootcampRecommend |   ChildrenNumber | CityPopulation      |   CodeEventConferences |   CodeEventDjangoGirls |   CodeEventFCC |   CodeEventGameJam |   CodeEventGirlDev |   CodeEventHackathons |   CodeEventMeetup |   CodeEventNodeSchool |   CodeEventNone |   CodeEventOther |   CodeEventRailsBridge |   CodeEventRailsGirls |   CodeEventStartUpWknd |   CodeEventWkdBootcamps |   CodeEventWomenCode |   CodeEventWorkshops | CommuteTime      | CountryCitizen           | CountryLive              | EmploymentField             |   EmploymentFieldOther | EmploymentStatus                 |   EmploymentStatusOther |   ExpectedEarning |   FinanciallySupporting |   FirstDevJob | Gender   |   GenderOther |   HasChildren |   HasDebt |   HasFinancialDependents |   HasHighSpdInternet |   HasHomeMortgage |   HasServedInMilitary |   HasStudentDebt |   HomeMortgageOwe |   HoursLearning | ID.x                             | ID.y                             |   Income |   IsEthnicMinority |   IsReceiveDisabilitiesBenefits |   IsSoftwareDev |   IsUnderEmployed | JobApplyWhen          |   JobInterestBackEnd |   JobInterestDataEngr |   JobInterestDataSci |   JobInterestDevOps |   JobInterestFrontEnd |   JobInterestFullStack |   JobInterestGameDev |   JobInterestInfoSec |   JobInterestMobile |   JobInterestOther |   JobInterestProjMngr |   JobInterestQAEngr |   JobInterestUX | JobPref                         |   JobRelocateYesNo | JobRoleInterest                                                                                                    | JobWherePref                       | LanguageAtHome   | MaritalStatus                   |   MoneyForLearning |   MonthsProgramming | NetworkID   | Part1EndTime        | Part1StartTime      | Part2EndTime        | Part2StartTime      |   PodcastChangeLog |   PodcastCodeNewbie |   PodcastCodePen |   PodcastDevTea |   PodcastDotNET |   PodcastGiantRobots |   PodcastJSAir |   PodcastJSJabber |   PodcastNone | PodcastOther   |   PodcastProgThrowdown |   PodcastRubyRogues |   PodcastSEDaily |   PodcastSERadio |   PodcastShopTalk |   PodcastTalkPython |   PodcastTheWebAhead |   ResourceCodecademy |   ResourceCodeWars |   ResourceCoursera |   ResourceCSS |   ResourceEdX |   ResourceEgghead |   ResourceFCC |   ResourceHackerRank |   ResourceKA |   ResourceLynda |   ResourceMDN |   ResourceOdinProj |   ResourceOther |   ResourcePluralSight |   ResourceSkillcrush |   ResourceSO |   ResourceTreehouse |   ResourceUdacity |   ResourceUdemy |   ResourceW3S | SchoolDegree                            |   SchoolMajor |   StudentDebtOwe |   YouTubeCodeCourse |   YouTubeCodingTrain |   YouTubeCodingTut360 |   YouTubeComputerphile |   YouTubeDerekBanas |   YouTubeDevTips |   YouTubeEngineeredTruth |   YouTubeFCC |   YouTubeFunFunFunction |   YouTubeGoogleDev |   YouTubeLearnCode |   YouTubeLevelUpTuts |   YouTubeMIT |   YouTubeMozillaHacks |   YouTubeOther |   YouTubeSimplilearn |   YouTubeTheNewBoston |\n",
    "|---:|------:|-------------------:|-----------------:|--------------------:|---------------:|--------------------:|-----------------:|:--------------------|-----------------------:|-----------------------:|---------------:|-------------------:|-------------------:|----------------------:|------------------:|----------------------:|----------------:|-----------------:|-----------------------:|----------------------:|-----------------------:|------------------------:|---------------------:|---------------------:|:-----------------|:-------------------------|:-------------------------|:----------------------------|-----------------------:|:---------------------------------|------------------------:|------------------:|------------------------:|--------------:|:---------|--------------:|--------------:|----------:|-------------------------:|---------------------:|------------------:|----------------------:|-----------------:|------------------:|----------------:|:---------------------------------|:---------------------------------|---------:|-------------------:|--------------------------------:|----------------:|------------------:|:----------------------|---------------------:|----------------------:|---------------------:|--------------------:|----------------------:|-----------------------:|---------------------:|---------------------:|--------------------:|-------------------:|----------------------:|--------------------:|----------------:|:--------------------------------|-------------------:|:-------------------------------------------------------------------------------------------------------------------|:-----------------------------------|:-----------------|:--------------------------------|-------------------:|--------------------:|:------------|:--------------------|:--------------------|:--------------------|:--------------------|-------------------:|--------------------:|-----------------:|----------------:|----------------:|---------------------:|---------------:|------------------:|--------------:|:---------------|-----------------------:|--------------------:|-----------------:|-----------------:|------------------:|--------------------:|---------------------:|---------------------:|-------------------:|-------------------:|--------------:|--------------:|------------------:|--------------:|---------------------:|-------------:|----------------:|--------------:|-------------------:|----------------:|----------------------:|---------------------:|-------------:|--------------------:|------------------:|----------------:|--------------:|:----------------------------------------|--------------:|-----------------:|--------------------:|---------------------:|----------------------:|-----------------------:|--------------------:|-----------------:|-------------------------:|-------------:|------------------------:|-------------------:|-------------------:|---------------------:|-------------:|----------------------:|---------------:|---------------------:|----------------------:|\n",
    "|  0 |    27 |                  0 |              nan |                 nan |            nan |                 nan |              nan | more than 1 million |                    nan |                    nan |            nan |                nan |                nan |                   nan |               nan |                   nan |             nan |              nan |                    nan |                   nan |                    nan |                     nan |                  nan |                  nan | 15 to 29 minutes | Canada                   | Canada                   | software development and IT |                    nan | Employed for wages               |                     nan |               nan |                     nan |           nan | female   |           nan |           nan |         1 |                        0 |                    1 |                 0 |                     0 |                0 |               nan |              15 | 02d9465b21e8bd09374b0066fb2d5614 | eb78c1c3ac6cd9052aec557065070fbf |      nan |                nan |                               0 |               0 |                 0 | nan                   |                  nan |                   nan |                  nan |                 nan |                   nan |                    nan |                  nan |                  nan |                 nan |                nan |                   nan |                 nan |             nan | start your own business         |                nan | nan                                                                                                                | nan                                | English          | married or domestic partnership |                150 |                   6 | 6f1fbc6b2b  | 2017-03-09 00:36:22 | 2017-03-09 00:32:59 | 2017-03-09 00:59:46 | 2017-03-09 00:36:26 |                nan |                 nan |              nan |               1 |             nan |                  nan |            nan |               nan |           nan | nan            |                    nan |                 nan |              nan |              nan |               nan |                 nan |                  nan |                    1 |                nan |                nan |           nan |           nan |               nan |             1 |                  nan |          nan |             nan |             1 |                nan |             nan |                   nan |                  nan |          nan |                 nan |               nan |               1 |             1 | some college credit, no degree          |           nan |              nan |                 nan |                  nan |                   nan |                    nan |                 nan |              nan |                      nan |          nan |                     nan |                nan |                nan |                  nan |          nan |                   nan |            nan |                  nan |                   nan |\n",
    "|  1 |    34 |                  0 |              nan |                 nan |            nan |                 nan |              nan | less than 100,000   |                    nan |                    nan |            nan |                nan |                nan |                   nan |               nan |                   nan |             nan |              nan |                    nan |                   nan |                    nan |                     nan |                  nan |                  nan | nan              | United States of America | United States of America | nan                         |                    nan | Not working but looking for work |                     nan |             35000 |                     nan |           nan | male     |           nan |           nan |         1 |                        0 |                    1 |                 0 |                     0 |                1 |               nan |              10 | 5bfef9ecb211ec4f518cfc1d2a6f3e0c | 21db37adb60cdcafadfa7dca1b13b6b1 |      nan |                  0 |                               0 |               0 |               nan | Within 7 to 12 months |                  nan |                   nan |                  nan |                 nan |                   nan |                      1 |                  nan |                  nan |                 nan |                nan |                   nan |                 nan |             nan | work for a nonprofit            |                  1 | Full-Stack Web Developer                                                                                           | in an office with other developers | English          | single, never married           |                 80 |                   6 | f8f8be6910  | 2017-03-09 00:37:07 | 2017-03-09 00:33:26 | 2017-03-09 00:38:59 | 2017-03-09 00:37:10 |                nan |                   1 |              nan |             nan |             nan |                  nan |            nan |               nan |           nan | nan            |                    nan |                 nan |              nan |              nan |               nan |                 nan |                  nan |                    1 |                nan |                nan |             1 |           nan |               nan |             1 |                  nan |          nan |             nan |           nan |                nan |             nan |                   nan |                  nan |            1 |                 nan |               nan |               1 |             1 | some college credit, no degree          |           nan |              nan |                 nan |                  nan |                   nan |                    nan |                 nan |              nan |                      nan |            1 |                     nan |                nan |                nan |                  nan |          nan |                   nan |            nan |                  nan |                   nan |\n",
    "|  2 |    21 |                  0 |              nan |                 nan |            nan |                 nan |              nan | more than 1 million |                    nan |                    nan |            nan |                nan |                nan |                     1 |               nan |                     1 |             nan |              nan |                    nan |                   nan |                    nan |                     nan |                  nan |                  nan | 15 to 29 minutes | United States of America | United States of America | software development and IT |                    nan | Employed for wages               |                     nan |             70000 |                     nan |           nan | male     |           nan |           nan |         0 |                        0 |                    1 |               nan |                     0 |              nan |               nan |              25 | 14f1863afa9c7de488050b82eb3edd96 | 21ba173828fbe9e27ccebaf4d5166a55 |    13000 |                  1 |                               0 |               0 |                 0 | Within 7 to 12 months |                    1 |                   nan |                  nan |                   1 |                     1 |                      1 |                  nan |                  nan |                   1 |                nan |                   nan |                 nan |             nan | work for a medium-sized company |                  1 | Front-End Web Developer, Back-End Web Developer,   DevOps / SysAdmin,   Mobile Developer, Full-Stack Web Developer | no preference                      | Spanish          | single, never married           |               1000 |                   5 | 2ed189768e  | 2017-03-09 00:37:58 | 2017-03-09 00:33:53 | 2017-03-09 00:40:14 | 2017-03-09 00:38:02 |                  1 |                 nan |                1 |             nan |             nan |                  nan |            nan |               nan |           nan | Codenewbie     |                    nan |                 nan |              nan |              nan |                 1 |                 nan |                  nan |                    1 |                nan |                nan |             1 |           nan |               nan |             1 |                  nan |          nan |             nan |             1 |                nan |             nan |                   nan |                  nan |          nan |                 nan |                 1 |               1 |           nan | high school diploma or equivalent (GED) |           nan |              nan |                 nan |                  nan |                     1 |                    nan |                   1 |                1 |                      nan |          nan |                     nan |                nan |                  1 |                    1 |          nan |                   nan |            nan |                  nan |                   nan |"
   ]
  },
  {
   "cell_type": "code",
   "execution_count": 39,
   "id": "29cdfc64-2916-49e9-bd7f-672b687e23a5",
   "metadata": {},
   "outputs": [],
   "source": [
    "# Importing libraries used throughout this lession\n",
    "import pandas as pd\n",
    "import numpy as np\n",
    "import matplotlib.pyplot as plt\n",
    "pd.options.display.max_columns = 100  # Avoid having displayed truncated output\n",
    "import pyperclip\n",
    "import seaborn as sns\n",
    "\n",
    "# import altair as alt  # for interactive plots\n",
    "# from IPython.display import Markdown # For displaying dataframes in markdown\n",
    "# for some web srapping \n",
    "# import requests  # for API requests\n",
    "# from bs4 import BeautifulSoup  # instead of using the above\n",
    "# import json  # for json conversion\n",
    "# from scipy.stats import percentileofscore\n",
    "# import datetime as dt\n",
    "# import re # for regular expressions\n",
    "# import altair as alt # for interactive plots\n",
    "# from IPython.display import HTML  # for display HTML in jupyterlab\n",
    "# from IPython.display import display # for display more than one pandas df at once\n",
    "# importing requests: a library for making HTTP requests to APIs."
   ]
  },
  {
   "attachments": {},
   "cell_type": "markdown",
   "id": "680a985f-df5e-4d8b-b36a-b183d6cb1fae",
   "metadata": {},
   "source": [
    "## 2. Exploring Data\n",
    "---"
   ]
  },
  {
   "cell_type": "code",
   "execution_count": 40,
   "id": "ed2f4ce1-2e06-4da8-a0e0-2693f0daf1ef",
   "metadata": {},
   "outputs": [],
   "source": [
    "# Reading 2017-fCC-New-Coders-Survey-Data.csv as pandas datafranme (df)\n",
    "survey_df = pd.read_csv('data/2017-fCC-New-Coders-Survey-Data.csv', low_memory = 0)\n",
    "\n",
    "# Copying first 3 rows to clipboard for markdown display above\n",
    "markdown_output = survey_df.head(3).to_markdown()\n",
    "pyperclip.copy(markdown_output)"
   ]
  },
  {
   "cell_type": "code",
   "execution_count": 41,
   "id": "0a023f55-183c-4fac-b90c-ee7407050c2a",
   "metadata": {},
   "outputs": [
    {
     "name": "stdout",
     "output_type": "stream",
     "text": [
      "The dimensions of the data are:  (18175, 136)\n"
     ]
    }
   ],
   "source": [
    "print('The dimensions of the data are: ', survey_df.shape)"
   ]
  },
  {
   "attachments": {},
   "cell_type": "markdown",
   "id": "3cbcfe96-9cfd-4069-960e-71f8729269a0",
   "metadata": {},
   "source": [
    "---\n",
    "The questions that are we are looking to answer include:\n",
    "\n",
    "1. Where are these new coders located.\n",
    "2. What locations have the greatest densities of new coders.\n",
    "3. How much money they're willing to spend on learning.\n",
    "\n",
    "Before we answer these question we need to check the data to make sure that it has the right people for the purpose of this project/company's aims. This will be achieved by reviewing the frequency distribution of the `JobRoleInterest` in the next section.\n",
    "\n",
    "---"
   ]
  },
  {
   "attachments": {},
   "cell_type": "markdown",
   "id": "c3988016-e720-42e6-9441-381b18edd4a9",
   "metadata": {},
   "source": [
    "## 3. Checking for Sample Representativity\n",
    "---"
   ]
  },
  {
   "cell_type": "code",
   "execution_count": 42,
   "id": "5aea3b65-41c0-4ee6-99a0-c14e64242126",
   "metadata": {},
   "outputs": [
    {
     "data": {
      "text/plain": [
       "JobRoleInterest\n",
       "Full-Stack Web Developer                                                                                                                                                                                                                                                                    11.770595\n",
       "  Front-End Web Developer                                                                                                                                                                                                                                                                    6.435927\n",
       "  Data Scientist                                                                                                                                                                                                                                                                             2.173913\n",
       "Back-End Web Developer                                                                                                                                                                                                                                                                       2.030892\n",
       "  Mobile Developer                                                                                                                                                                                                                                                                           1.673341\n",
       "                                                                                                                                                                                                                                                                                              ...    \n",
       "  Front-End Web Developer,   DevOps / SysAdmin,   Mobile Developer, Full-Stack Web Developer                                                                                                                                                                                                 0.014302\n",
       "Back-End Web Developer,   Front-End Web Developer, Data Engineer, Full-Stack Web Developer,   Mobile Developer                                                                                                                                                                               0.014302\n",
       "Back-End Web Developer,   User Experience Designer,   Mobile Developer, Game Developer,   Front-End Web Developer, Full-Stack Web Developer                                                                                                                                                  0.014302\n",
       "  Front-End Web Developer,   Mobile Developer, Back-End Web Developer, Full-Stack Web Developer, Data Engineer                                                                                                                                                                               0.014302\n",
       "  DevOps / SysAdmin,   Mobile Developer,   Product Manager, Game Developer,   Front-End Web Developer, Data Engineer,   Quality Assurance Engineer,   User Experience Designer, Back-End Web Developer,   Data Scientist, Full-Stack Web Developer, Information Security, IT specialist      0.014302\n",
       "Name: proportion, Length: 3213, dtype: float64"
      ]
     },
     "execution_count": 42,
     "metadata": {},
     "output_type": "execute_result"
    }
   ],
   "source": [
    "# Frequency distribution table for 'JobRoleInterest'\n",
    "survey_df['JobRoleInterest'].value_counts(normalize=True) * 100"
   ]
  },
  {
   "attachments": {},
   "cell_type": "markdown",
   "id": "27e68a19-b331-42d2-9352-e20b7ccf4e9f",
   "metadata": {},
   "source": [
    "---\n",
    "From frequency distribution above it can be seen that approximately `18%` of students are interested in web development. But looking at the end of the table it can be seen that there are many students interested in a number of career pathways, which may make selling then on a course that directs them into a single path difficult. However, the online teaching company interest in the outcome of this analysis offers a range of programming courses - so a custom learning path may still be a possibility.\n",
    "\n",
    "Next the students' desired career paths will be seperated and a frequency distribution showing the number of desired career paths each student has will be presented. This distribution will range from 1 career path to 13.  \n",
    "\n",
    "---"
   ]
  },
  {
   "cell_type": "code",
   "execution_count": 43,
   "id": "a52aed60-7d12-4c4e-8187-ea3469e45c89",
   "metadata": {},
   "outputs": [
    {
     "data": {
      "text/plain": [
       "JobRoleInterest\n",
       "1     31.650458\n",
       "2     10.883867\n",
       "3     15.889588\n",
       "4     15.217391\n",
       "5     12.042334\n",
       "6      6.721968\n",
       "7      3.861556\n",
       "8      1.759153\n",
       "9      0.986842\n",
       "10     0.471968\n",
       "11     0.185927\n",
       "12     0.300343\n",
       "13     0.028604\n",
       "Name: proportion, dtype: float64"
      ]
     },
     "execution_count": 43,
     "metadata": {},
     "output_type": "execute_result"
    }
   ],
   "source": [
    "# Split each string in the 'JobRoleInterest' column\n",
    "interests_no_nulls = survey_df['JobRoleInterest'].dropna()\n",
    "splitted_interests = interests_no_nulls.str.split(',')\n",
    "\n",
    "# Frequency table for the var describing the number of options\n",
    "n_of_options = splitted_interests.apply(lambda x: len(x))  # x is a list of job options\n",
    "n_of_options.value_counts(normalize=True).sort_index() * 100"
   ]
  },
  {
   "attachments": {},
   "cell_type": "markdown",
   "id": "75050d07-9f05-4e48-a416-383134c3982b",
   "metadata": {},
   "source": [
    "---\n",
    "Above shows that `32%` of students are interested in only one career path and a large majority looking into 2-7 possible  career options.\n",
    "\n",
    "The focus of the teaching company's courses are on web and mobile developement, so next we will analysis the number of students, as a percentage, interested in this career path.\n",
    "\n",
    "---"
   ]
  },
  {
   "cell_type": "code",
   "execution_count": 44,
   "id": "b96bef1c-eeb7-4f03-aef1-18d2c57360cc",
   "metadata": {},
   "outputs": [
    {
     "name": "stdout",
     "output_type": "stream",
     "text": [
      "JobRoleInterest\n",
      "True     86.241419\n",
      "False    13.758581\n",
      "Name: proportion, dtype: float64\n"
     ]
    }
   ],
   "source": [
    "# Frequency table\n",
    "web_or_mobile = interests_no_nulls.str.contains(\n",
    "    'Web Developer|Mobile Developer')  # returns an array of booleans\n",
    "freq_table = web_or_mobile.value_counts(normalize=True) * 100\n",
    "print(freq_table)"
   ]
  },
  {
   "cell_type": "code",
   "execution_count": 45,
   "id": "cd304270-1304-460b-9c32-8b738c66a5a8",
   "metadata": {},
   "outputs": [
    {
     "name": "stdout",
     "output_type": "stream",
     "text": [
      "JobRoleInterest\n",
      "True     86.241419\n",
      "False    13.758581\n",
      "Name: proportion, dtype: float64\n"
     ]
    }
   ],
   "source": [
    "# OR by using a lambda function\n",
    "web_or_mobile = interests_no_nulls.apply(lambda x: ('Web Developer' in x) or \n",
    "                                         ('Mobile Developer' in x)\n",
    "                                        )\n",
    "\n",
    "freq_table = web_or_mobile.value_counts(normalize=True) * 100\n",
    "print(freq_table)"
   ]
  },
  {
   "cell_type": "code",
   "execution_count": 46,
   "id": "7c2e7f04-0e13-4c06-a69e-b07ed3408ee2",
   "metadata": {},
   "outputs": [
    {
     "data": {
      "image/png": "[encoded data removed]",
      "text/plain": [
       "<Figure size 400x300 with 1 Axes>"
      ]
     },
     "metadata": {},
     "output_type": "display_data"
    }
   ],
   "source": [
    "# set the plot style to 'fivethirtyeight'\n",
    "plt.style.use('fivethirtyeight')\n",
    "\n",
    "# create a new figure object with a size of 4 inches by 3 inches\n",
    "fig = plt.figure(figsize=(4, 3))\n",
    "\n",
    "# create a bar plot of the frequency table with two bars colored in blue and orange\n",
    "freq_table.plot.bar(color=['tab:blue', 'tab:orange'])\n",
    "\n",
    "# set the plot title with some padding to move it up\n",
    "plt.title('Most Participants are Interested in \\nWeb or Mobile Development', y=1.08)\n",
    "\n",
    "# set the label for the y-axis with a fontsize of 12\n",
    "plt.ylabel('Percentage', fontsize=12)\n",
    "\n",
    "# set the xtick labels to 'Web or mobile development' and 'Other subject',\n",
    "# with no rotation\n",
    "plt.xticks([0, 1], ['Web or mobile\\ndevelopment', 'Other subject'], rotation=0)\n",
    "\n",
    "# set the y-axis limits to range from 0 to 100\n",
    "plt.ylim([0, 100])\n",
    "\n",
    "# show the plot\n",
    "plt.show()"
   ]
  },
  {
   "attachments": {},
   "cell_type": "markdown",
   "id": "bc5358aa-8780-4df9-9113-5a95e65ac234",
   "metadata": {},
   "source": [
    "---\n",
    "The plot above shows that most students in the survey are interested in web and mobile development. Which indicates that this sample represents the population that we are interested in.\n",
    "\n",
    "Next we need to found out which markets are best to advertise in. Things we are interest in knowing from this survey data again include:\n",
    "\n",
    "- The location the coders\n",
    "- Which location has the greatest number of new coders\n",
    "- How much are new coders will to spend on courses\n",
    "\n",
    "---"
   ]
  },
  {
   "attachments": {},
   "cell_type": "markdown",
   "id": "8e8a819b-5431-4b56-803b-1f4c7ebe8305",
   "metadata": {},
   "source": [
    "## 4. New Coders' Location and Densities\n",
    "---"
   ]
  },
  {
   "cell_type": "code",
   "execution_count": 47,
   "id": "2a0c5850-9fbe-4cce-b2b5-07a75294785d",
   "metadata": {},
   "outputs": [
    {
     "name": "stdout",
     "output_type": "stream",
     "text": [
      "Checking the number of Nulls in JobRoleInterest:  0 \n",
      "\n"
     ]
    },
    {
     "data": {
      "text/html": [
       "<div>\n",
       "<style scoped>\n",
       "    .dataframe tbody tr th:only-of-type {\n",
       "        vertical-align: middle;\n",
       "    }\n",
       "\n",
       "    .dataframe tbody tr th {\n",
       "        vertical-align: top;\n",
       "    }\n",
       "\n",
       "    .dataframe thead th {\n",
       "        text-align: right;\n",
       "    }\n",
       "</style>\n",
       "<table border=\"1\" class=\"dataframe\">\n",
       "  <thead>\n",
       "    <tr style=\"text-align: right;\">\n",
       "      <th></th>\n",
       "      <th>Absolute frequency</th>\n",
       "      <th>Percentage</th>\n",
       "    </tr>\n",
       "    <tr>\n",
       "      <th>CountryLive</th>\n",
       "      <th></th>\n",
       "      <th></th>\n",
       "    </tr>\n",
       "  </thead>\n",
       "  <tbody>\n",
       "    <tr>\n",
       "      <th>United States of America</th>\n",
       "      <td>45.700497</td>\n",
       "      <td>45.700497</td>\n",
       "    </tr>\n",
       "    <tr>\n",
       "      <th>India</th>\n",
       "      <td>7.721556</td>\n",
       "      <td>7.721556</td>\n",
       "    </tr>\n",
       "    <tr>\n",
       "      <th>United Kingdom</th>\n",
       "      <td>4.606610</td>\n",
       "      <td>4.606610</td>\n",
       "    </tr>\n",
       "    <tr>\n",
       "      <th>Canada</th>\n",
       "      <td>3.802281</td>\n",
       "      <td>3.802281</td>\n",
       "    </tr>\n",
       "    <tr>\n",
       "      <th>Poland</th>\n",
       "      <td>1.915765</td>\n",
       "      <td>1.915765</td>\n",
       "    </tr>\n",
       "    <tr>\n",
       "      <th>...</th>\n",
       "      <td>...</td>\n",
       "      <td>...</td>\n",
       "    </tr>\n",
       "    <tr>\n",
       "      <th>Liberia</th>\n",
       "      <td>0.014624</td>\n",
       "      <td>0.014624</td>\n",
       "    </tr>\n",
       "    <tr>\n",
       "      <th>Papua New Guinea</th>\n",
       "      <td>0.014624</td>\n",
       "      <td>0.014624</td>\n",
       "    </tr>\n",
       "    <tr>\n",
       "      <th>Guadeloupe</th>\n",
       "      <td>0.014624</td>\n",
       "      <td>0.014624</td>\n",
       "    </tr>\n",
       "    <tr>\n",
       "      <th>Gibraltar</th>\n",
       "      <td>0.014624</td>\n",
       "      <td>0.014624</td>\n",
       "    </tr>\n",
       "    <tr>\n",
       "      <th>Gambia</th>\n",
       "      <td>0.014624</td>\n",
       "      <td>0.014624</td>\n",
       "    </tr>\n",
       "  </tbody>\n",
       "</table>\n",
       "<p>137 rows × 2 columns</p>\n",
       "</div>"
      ],
      "text/plain": [
       "                          Absolute frequency  Percentage\n",
       "CountryLive                                             \n",
       "United States of America           45.700497   45.700497\n",
       "India                               7.721556    7.721556\n",
       "United Kingdom                      4.606610    4.606610\n",
       "Canada                              3.802281    3.802281\n",
       "Poland                              1.915765    1.915765\n",
       "...                                      ...         ...\n",
       "Liberia                             0.014624    0.014624\n",
       "Papua New Guinea                    0.014624    0.014624\n",
       "Guadeloupe                          0.014624    0.014624\n",
       "Gibraltar                           0.014624    0.014624\n",
       "Gambia                              0.014624    0.014624\n",
       "\n",
       "[137 rows x 2 columns]"
      ]
     },
     "execution_count": 47,
     "metadata": {},
     "output_type": "execute_result"
    }
   ],
   "source": [
    "# Dropping rows where survey respondents did not state a career of interest\n",
    "survey_no_nulls_df = survey_df.dropna(subset='JobRoleInterest').copy()\n",
    "print('Checking the number of Nulls in JobRoleInterest: ', \n",
    "      survey_no_nulls_df['JobRoleInterest'].isnull().sum(), '\\n'\n",
    "     )\n",
    "\n",
    "\n",
    "# Creating an absolute frequency table of countries where students live\n",
    "country_abs_ft = survey_no_nulls_df['CountryLive'].value_counts()\n",
    "\n",
    "# Creating an relative frequency table of countries where students live\n",
    "country_abs_ft = survey_no_nulls_df['CountryLive'].value_counts(normalize=True) * 100\n",
    "\n",
    "# Display the frequency tables in a more readable format\n",
    "pd.DataFrame(data={'Absolute frequency': country_abs_ft, \n",
    "                     'Percentage': country_abs_ft}\n",
    "            )\n"
   ]
  },
  {
   "attachments": {},
   "cell_type": "markdown",
   "id": "3aed9007-bafa-4eef-bab4-c6cf3ce54d28",
   "metadata": {},
   "source": [
    "---\n",
    "Based on the frequency tables above, we can identify two countries to target for advertising. The data shows that the USA should definitely be targeted, as `46%` of the surveyed students are located there. However, selecting a second country is not as straightforward. India, the UK, and Canada all have similar proportions of surveyed students living there. To determine which of these countries to target next, we should consider how much the students in each country are willing to pay for coding courses.\n",
    "\n",
    "---"
   ]
  },
  {
   "attachments": {},
   "cell_type": "markdown",
   "id": "c7c32360-dc15-44ee-ba87-726b83b9c43b",
   "metadata": {},
   "source": [
    "## 5. Spending Money for Learning\n",
    "---"
   ]
  },
  {
   "attachments": {},
   "cell_type": "markdown",
   "id": "81452c56-49b3-4716-b272-9361f2cd72e3",
   "metadata": {},
   "source": [
    "Selecting the top four countries for further analysis"
   ]
  },
  {
   "cell_type": "code",
   "execution_count": 48,
   "id": "d96af520-527b-4c91-b114-397ce2c8dae5",
   "metadata": {},
   "outputs": [
    {
     "data": {
      "text/plain": [
       "CountryLive\n",
       "United States of America    3125\n",
       "India                        528\n",
       "United Kingdom               315\n",
       "Canada                       260\n",
       "Name: count, dtype: int64"
      ]
     },
     "execution_count": 48,
     "metadata": {},
     "output_type": "execute_result"
    }
   ],
   "source": [
    "# list of top four countries\n",
    "top_countries = ['United States of America',\n",
    "               'India',\n",
    "               'United Kingdom',\n",
    "               'Canada']\n",
    "\n",
    "# Creating boolean indexing series for selecting top countries\n",
    "country_bool = survey_no_nulls_df['CountryLive'].isin(top_countries)\n",
    "\n",
    "# Selecting those countries and updating survey_no_nulls_df df\n",
    "survey_no_nulls_df = survey_no_nulls_df[country_bool]\n",
    "\n",
    "# Checking that df has updated\n",
    "survey_no_nulls_df['CountryLive'].value_counts()"
   ]
  },
  {
   "attachments": {},
   "cell_type": "markdown",
   "id": "9a54442a-e196-41a9-91a9-2bf178c53290",
   "metadata": {},
   "source": [
    "---\n",
    "New determining the amount each survey respondent spent on coding course per-month."
   ]
  },
  {
   "cell_type": "code",
   "execution_count": 49,
   "id": "9a2c0a20-2ed8-4639-a53e-f6e81a62c0c1",
   "metadata": {},
   "outputs": [
    {
     "data": {
      "text/plain": [
       "313"
      ]
     },
     "execution_count": 49,
     "metadata": {},
     "output_type": "execute_result"
    }
   ],
   "source": [
    "# Replace 0s with 1s to avoid division by 0\n",
    "survey_no_nulls_df['MonthsProgramming'].replace(0, 1, inplace=True)\n",
    "\n",
    "# Dividing total spend by months of learning\n",
    "survey_no_nulls_df['spendPerMonth'] = (survey_no_nulls_df['MoneyForLearning'] /\n",
    "                                        survey_no_nulls_df['MonthsProgramming']\n",
    "                                      )\n",
    "\n",
    "# Checking the number of null values in 'spendPerMonth'\n",
    "survey_no_nulls_df['spendPerMonth'].isnull().sum()"
   ]
  },
  {
   "cell_type": "code",
   "execution_count": 50,
   "id": "290c75de-c889-418c-8684-93445fc99f0a",
   "metadata": {},
   "outputs": [
    {
     "name": "stdout",
     "output_type": "stream",
     "text": [
      "0\n"
     ]
    }
   ],
   "source": [
    "# Dropping rows with null in 'spendPerMonth' column\n",
    "survey_no_nulls_df = survey_no_nulls_df.dropna(subset=['spendPerMonth'])\n",
    "# Confirming null rows were removed\n",
    "print(survey_no_nulls_df['spendPerMonth'].isnull().sum())"
   ]
  },
  {
   "cell_type": "code",
   "execution_count": 51,
   "id": "7631f8a0-f4f5-41fa-b47d-58f1ebd9c84a",
   "metadata": {},
   "outputs": [
    {
     "data": {
      "text/html": [
       "<div>\n",
       "<style scoped>\n",
       "    .dataframe tbody tr th:only-of-type {\n",
       "        vertical-align: middle;\n",
       "    }\n",
       "\n",
       "    .dataframe tbody tr th {\n",
       "        vertical-align: top;\n",
       "    }\n",
       "\n",
       "    .dataframe thead th {\n",
       "        text-align: right;\n",
       "    }\n",
       "</style>\n",
       "<table border=\"1\" class=\"dataframe\">\n",
       "  <thead>\n",
       "    <tr style=\"text-align: right;\">\n",
       "      <th></th>\n",
       "      <th>CountryLive</th>\n",
       "      <th>spendPerMonth</th>\n",
       "    </tr>\n",
       "  </thead>\n",
       "  <tbody>\n",
       "    <tr>\n",
       "      <th>3</th>\n",
       "      <td>United States of America</td>\n",
       "      <td>227.997996</td>\n",
       "    </tr>\n",
       "    <tr>\n",
       "      <th>1</th>\n",
       "      <td>India</td>\n",
       "      <td>135.100982</td>\n",
       "    </tr>\n",
       "    <tr>\n",
       "      <th>0</th>\n",
       "      <td>Canada</td>\n",
       "      <td>113.510961</td>\n",
       "    </tr>\n",
       "    <tr>\n",
       "      <th>2</th>\n",
       "      <td>United Kingdom</td>\n",
       "      <td>45.534443</td>\n",
       "    </tr>\n",
       "  </tbody>\n",
       "</table>\n",
       "</div>"
      ],
      "text/plain": [
       "                CountryLive  spendPerMonth\n",
       "3  United States of America     227.997996\n",
       "1                     India     135.100982\n",
       "0                    Canada     113.510961\n",
       "2            United Kingdom      45.534443"
      ]
     },
     "execution_count": 51,
     "metadata": {},
     "output_type": "execute_result"
    }
   ],
   "source": [
    "# grouping df by countries and founding the mean spend per month\n",
    "country_group = survey_no_nulls_df.groupby(by='CountryLive')\n",
    "                 \n",
    "country_group_mean = (country_group['spendPerMonth']\n",
    "                             .mean()\n",
    "                             .reset_index()\n",
    "                             .sort_values(by='spendPerMonth', ascending=False)\n",
    "        )\n",
    "\n",
    "country_group_mean"
   ]
  },
  {
   "cell_type": "code",
   "execution_count": 52,
   "id": "81ee702f-6d02-4c91-b82c-95f3b0c04918",
   "metadata": {},
   "outputs": [
    {
     "data": {
      "image/png": "[encoded data removed]",
      "text/plain": [
       "<Figure size 640x480 with 1 Axes>"
      ]
     },
     "metadata": {},
     "output_type": "display_data"
    }
   ],
   "source": [
    "# Plot the boxplot using seaborn\n",
    "sns.set_theme()\n",
    "sns.boxplot(x='CountryLive', y='spendPerMonth', \n",
    "            data=survey_no_nulls_df, \n",
    "            showfliers=True,\n",
    "            hue='CountryLive')\n",
    "\n",
    "# Set the plot title and axes labels\n",
    "plt.title('Monthly Spending on Coding Courses Per Country', \n",
    "          fontsize=20, y=1.15, x=0.6\n",
    "         )\n",
    "plt.xlabel('Country')\n",
    "plt.ylabel('Monthly Spending')\n",
    "plt.xticks(rotation=45, fontsize=10)\n",
    "plt.ylim(0, 5000)\n",
    "plt.legend(loc='center left', bbox_to_anchor=(1, 0.5), fontsize=10)\n",
    "\n",
    "# Show the plot\n",
    "plt.show()"
   ]
  },
  {
   "attachments": {},
   "cell_type": "markdown",
   "id": "5626676a-7b7a-4a94-a8ff-2dad60120101",
   "metadata": {},
   "source": [
    "---\n",
    "The frequency distribution of means from shows the USA spends the most per-month, followed by India, Canada, and the UK. However the box plot above shows that there are a number of large outliers, which suggest that either the data has some incorrect entries or few people spend lots of money per-month and many people spend very little.\n",
    "\n",
    "It should also be noted that the results of the distribution tables are interest and seem unusal if you condider GPD per-capitia. India should be in four place.\n",
    "\n",
    "Next these outliers will be investigated.\n",
    "\n",
    "---"
   ]
  },
  {
   "attachments": {},
   "cell_type": "markdown",
   "id": "4afd2fb7-5285-475f-836d-224da99aa157",
   "metadata": {},
   "source": [
    "## 6. Dealing with Extreme Outliers\n",
    "---"
   ]
  },
  {
   "cell_type": "code",
   "execution_count": 53,
   "id": "3dc219c2-88dc-4137-b10d-e43f63ce55f2",
   "metadata": {},
   "outputs": [
    {
     "data": {
      "text/html": [
       "<div>\n",
       "<style scoped>\n",
       "    .dataframe tbody tr th:only-of-type {\n",
       "        vertical-align: middle;\n",
       "    }\n",
       "\n",
       "    .dataframe tbody tr th {\n",
       "        vertical-align: top;\n",
       "    }\n",
       "\n",
       "    .dataframe thead th {\n",
       "        text-align: right;\n",
       "    }\n",
       "</style>\n",
       "<table border=\"1\" class=\"dataframe\">\n",
       "  <thead>\n",
       "    <tr style=\"text-align: right;\">\n",
       "      <th></th>\n",
       "      <th>MoneyForLearning</th>\n",
       "      <th>MonthsProgramming</th>\n",
       "    </tr>\n",
       "  </thead>\n",
       "  <tbody>\n",
       "    <tr>\n",
       "      <th>234</th>\n",
       "      <td>1200.0</td>\n",
       "      <td>1.0</td>\n",
       "    </tr>\n",
       "    <tr>\n",
       "      <th>415</th>\n",
       "      <td>14000.0</td>\n",
       "      <td>6.0</td>\n",
       "    </tr>\n",
       "    <tr>\n",
       "      <th>441</th>\n",
       "      <td>9000.0</td>\n",
       "      <td>4.0</td>\n",
       "    </tr>\n",
       "    <tr>\n",
       "      <th>484</th>\n",
       "      <td>20000.0</td>\n",
       "      <td>7.0</td>\n",
       "    </tr>\n",
       "    <tr>\n",
       "      <th>718</th>\n",
       "      <td>8000.0</td>\n",
       "      <td>1.0</td>\n",
       "    </tr>\n",
       "    <tr>\n",
       "      <th>...</th>\n",
       "      <td>...</td>\n",
       "      <td>...</td>\n",
       "    </tr>\n",
       "    <tr>\n",
       "      <th>17898</th>\n",
       "      <td>10000.0</td>\n",
       "      <td>6.0</td>\n",
       "    </tr>\n",
       "    <tr>\n",
       "      <th>17902</th>\n",
       "      <td>2000.0</td>\n",
       "      <td>1.0</td>\n",
       "    </tr>\n",
       "    <tr>\n",
       "      <th>17911</th>\n",
       "      <td>22000.0</td>\n",
       "      <td>20.0</td>\n",
       "    </tr>\n",
       "    <tr>\n",
       "      <th>17953</th>\n",
       "      <td>15000.0</td>\n",
       "      <td>15.0</td>\n",
       "    </tr>\n",
       "    <tr>\n",
       "      <th>18156</th>\n",
       "      <td>1000.0</td>\n",
       "      <td>1.0</td>\n",
       "    </tr>\n",
       "  </tbody>\n",
       "</table>\n",
       "<p>162 rows × 2 columns</p>\n",
       "</div>"
      ],
      "text/plain": [
       "       MoneyForLearning  MonthsProgramming\n",
       "234              1200.0                1.0\n",
       "415             14000.0                6.0\n",
       "441              9000.0                4.0\n",
       "484             20000.0                7.0\n",
       "718              8000.0                1.0\n",
       "...                 ...                ...\n",
       "17898           10000.0                6.0\n",
       "17902            2000.0                1.0\n",
       "17911           22000.0               20.0\n",
       "17953           15000.0               15.0\n",
       "18156            1000.0                1.0\n",
       "\n",
       "[162 rows x 2 columns]"
      ]
     },
     "execution_count": 53,
     "metadata": {},
     "output_type": "execute_result"
    }
   ],
   "source": [
    "# Checking extreme outliers \n",
    "(survey_no_nulls_df[(survey_no_nulls_df['spendPerMonth'] >= 1000)]\n",
    "[['MoneyForLearning', 'MonthsProgramming']])"
   ]
  },
  {
   "attachments": {},
   "cell_type": "markdown",
   "id": "ec4c9d29-54c3-4341-9051-4472a3a9cdca",
   "metadata": {},
   "source": [
    "---\n",
    "From the above df we can see that survey respondents claim to be spending `$1000` or more on there coding education per-month. The coding bootcamp company interested in this analysis sales course for `$59.99` US per-month. So to target that audience more we can remove survey respondents will month course spend that is equal to or more than `$500`.\n",
    "\n",
    "The cause of the respondents claiming to spend `$1000` per-month may be a result of incorrectly answering the question in the survey. They may have thought the question was asking for an annual spend. However. there is no way of knowing this so they will just be removed from the dataframe.\n",
    "\n",
    "---"
   ]
  },
  {
   "cell_type": "code",
   "execution_count": 54,
   "id": "9cd392bc-873c-49ac-89a2-75ed80dad805",
   "metadata": {},
   "outputs": [
    {
     "data": {
      "text/html": [
       "<div>\n",
       "<style scoped>\n",
       "    .dataframe tbody tr th:only-of-type {\n",
       "        vertical-align: middle;\n",
       "    }\n",
       "\n",
       "    .dataframe tbody tr th {\n",
       "        vertical-align: top;\n",
       "    }\n",
       "\n",
       "    .dataframe thead th {\n",
       "        text-align: right;\n",
       "    }\n",
       "</style>\n",
       "<table border=\"1\" class=\"dataframe\">\n",
       "  <thead>\n",
       "    <tr style=\"text-align: right;\">\n",
       "      <th></th>\n",
       "      <th>spendPerMonth</th>\n",
       "      <th>count</th>\n",
       "    </tr>\n",
       "  </thead>\n",
       "  <tbody>\n",
       "    <tr>\n",
       "      <th>15</th>\n",
       "      <td>500.000000</td>\n",
       "      <td>32</td>\n",
       "    </tr>\n",
       "    <tr>\n",
       "      <th>237</th>\n",
       "      <td>482.758621</td>\n",
       "      <td>1</td>\n",
       "    </tr>\n",
       "    <tr>\n",
       "      <th>91</th>\n",
       "      <td>450.000000</td>\n",
       "      <td>3</td>\n",
       "    </tr>\n",
       "    <tr>\n",
       "      <th>194</th>\n",
       "      <td>437.500000</td>\n",
       "      <td>1</td>\n",
       "    </tr>\n",
       "    <tr>\n",
       "      <th>240</th>\n",
       "      <td>433.333333</td>\n",
       "      <td>1</td>\n",
       "    </tr>\n",
       "    <tr>\n",
       "      <th>...</th>\n",
       "      <td>...</td>\n",
       "      <td>...</td>\n",
       "    </tr>\n",
       "    <tr>\n",
       "      <th>153</th>\n",
       "      <td>0.138889</td>\n",
       "      <td>1</td>\n",
       "    </tr>\n",
       "    <tr>\n",
       "      <th>148</th>\n",
       "      <td>0.066667</td>\n",
       "      <td>1</td>\n",
       "    </tr>\n",
       "    <tr>\n",
       "      <th>149</th>\n",
       "      <td>0.050000</td>\n",
       "      <td>1</td>\n",
       "    </tr>\n",
       "    <tr>\n",
       "      <th>252</th>\n",
       "      <td>0.033333</td>\n",
       "      <td>1</td>\n",
       "    </tr>\n",
       "    <tr>\n",
       "      <th>0</th>\n",
       "      <td>0.000000</td>\n",
       "      <td>1844</td>\n",
       "    </tr>\n",
       "  </tbody>\n",
       "</table>\n",
       "<p>291 rows × 2 columns</p>\n",
       "</div>"
      ],
      "text/plain": [
       "     spendPerMonth  count\n",
       "15      500.000000     32\n",
       "237     482.758621      1\n",
       "91      450.000000      3\n",
       "194     437.500000      1\n",
       "240     433.333333      1\n",
       "..             ...    ...\n",
       "153       0.138889      1\n",
       "148       0.066667      1\n",
       "149       0.050000      1\n",
       "252       0.033333      1\n",
       "0         0.000000   1844\n",
       "\n",
       "[291 rows x 2 columns]"
      ]
     },
     "execution_count": 54,
     "metadata": {},
     "output_type": "execute_result"
    }
   ],
   "source": [
    "# excluding rows with monthly spends greater than or equal to $500\n",
    "survey_no_nulls_df = survey_no_nulls_df[survey_no_nulls_df['spendPerMonth'] <= 500]\n",
    "\n",
    "# checking the new distribution\n",
    "spend_counts = survey_no_nulls_df['spendPerMonth'].value_counts().reset_index()\n",
    "spend_counts = spend_counts.sort_values(by='spendPerMonth', ascending=False)\n",
    "spend_counts"
   ]
  },
  {
   "attachments": {},
   "cell_type": "markdown",
   "id": "f0266311-3ef6-4300-8c4c-449f774c7764",
   "metadata": {},
   "source": [
    "---\n",
    "Rechecking the mean month spend:"
   ]
  },
  {
   "cell_type": "code",
   "execution_count": 55,
   "id": "fda04c08-9fff-46c4-b042-702829cd804b",
   "metadata": {},
   "outputs": [
    {
     "data": {
      "text/html": [
       "<div>\n",
       "<style scoped>\n",
       "    .dataframe tbody tr th:only-of-type {\n",
       "        vertical-align: middle;\n",
       "    }\n",
       "\n",
       "    .dataframe tbody tr th {\n",
       "        vertical-align: top;\n",
       "    }\n",
       "\n",
       "    .dataframe thead th {\n",
       "        text-align: right;\n",
       "    }\n",
       "</style>\n",
       "<table border=\"1\" class=\"dataframe\">\n",
       "  <thead>\n",
       "    <tr style=\"text-align: right;\">\n",
       "      <th></th>\n",
       "      <th>CountryLive</th>\n",
       "      <th>spendPerMonth</th>\n",
       "    </tr>\n",
       "  </thead>\n",
       "  <tbody>\n",
       "    <tr>\n",
       "      <th>3</th>\n",
       "      <td>United States of America</td>\n",
       "      <td>38.818292</td>\n",
       "    </tr>\n",
       "    <tr>\n",
       "      <th>0</th>\n",
       "      <td>Canada</td>\n",
       "      <td>27.848884</td>\n",
       "    </tr>\n",
       "    <tr>\n",
       "      <th>1</th>\n",
       "      <td>India</td>\n",
       "      <td>25.816526</td>\n",
       "    </tr>\n",
       "    <tr>\n",
       "      <th>2</th>\n",
       "      <td>United Kingdom</td>\n",
       "      <td>25.245838</td>\n",
       "    </tr>\n",
       "  </tbody>\n",
       "</table>\n",
       "</div>"
      ],
      "text/plain": [
       "                CountryLive  spendPerMonth\n",
       "3  United States of America      38.818292\n",
       "0                    Canada      27.848884\n",
       "1                     India      25.816526\n",
       "2            United Kingdom      25.245838"
      ]
     },
     "execution_count": 55,
     "metadata": {},
     "output_type": "execute_result"
    }
   ],
   "source": [
    "# grouping df by countries and founding the mean spend per month\n",
    "country_group = survey_no_nulls_df.groupby(by='CountryLive')\n",
    "                 \n",
    "country_group_mean = (country_group['spendPerMonth']\n",
    "                             .mean()\n",
    "                             .reset_index()\n",
    "                             .sort_values(by='spendPerMonth', ascending=False)\n",
    "        )\n",
    "\n",
    "country_group_mean"
   ]
  },
  {
   "attachments": {},
   "cell_type": "markdown",
   "id": "2201f474-fefb-4b20-9acf-f59bca291e9f",
   "metadata": {},
   "source": [
    "---\n",
    "Recreating the box plot with the new month spend distributions per country:"
   ]
  },
  {
   "cell_type": "code",
   "execution_count": 56,
   "id": "d51d4fd4-d815-468a-b3a6-239f82bb119d",
   "metadata": {},
   "outputs": [
    {
     "data": {
      "image/png": "[encoded data removed]",
      "text/plain": [
       "<Figure size 640x480 with 1 Axes>"
      ]
     },
     "metadata": {},
     "output_type": "display_data"
    }
   ],
   "source": [
    "# Plot the boxplot using seaborn\n",
    "sns.set_theme()\n",
    "sns.boxplot(x='CountryLive', y='spendPerMonth', \n",
    "            data=survey_no_nulls_df, \n",
    "            showfliers=True,\n",
    "            hue='CountryLive')\n",
    "\n",
    "# Set the plot title and axes labels\n",
    "plt.title('Monthly Spending on Coding Courses Per Country', \n",
    "          fontsize=20, y=1.15, x=0.6\n",
    "         )\n",
    "plt.xlabel('Country')\n",
    "plt.ylabel('Monthly Spending')\n",
    "plt.xticks(rotation=45, fontsize=10)\n",
    "plt.ylim(0, max(survey_no_nulls_df['spendPerMonth']))\n",
    "plt.legend(loc='center left', bbox_to_anchor=(1, 0.5), fontsize=10)\n",
    "\n",
    "# Show the plot\n",
    "plt.show()"
   ]
  },
  {
   "cell_type": "code",
   "execution_count": 57,
   "id": "a8b6e732-98e2-4051-890f-38c8fa0c4e7d",
   "metadata": {},
   "outputs": [
    {
     "data": {
      "text/html": [
       "<div>\n",
       "<style scoped>\n",
       "    .dataframe tbody tr th:only-of-type {\n",
       "        vertical-align: middle;\n",
       "    }\n",
       "\n",
       "    .dataframe tbody tr th {\n",
       "        vertical-align: top;\n",
       "    }\n",
       "\n",
       "    .dataframe thead th {\n",
       "        text-align: right;\n",
       "    }\n",
       "</style>\n",
       "<table border=\"1\" class=\"dataframe\">\n",
       "  <thead>\n",
       "    <tr style=\"text-align: right;\">\n",
       "      <th></th>\n",
       "      <th>Absolute frequency</th>\n",
       "      <th>Percentage</th>\n",
       "    </tr>\n",
       "    <tr>\n",
       "      <th>CountryLive</th>\n",
       "      <th></th>\n",
       "      <th></th>\n",
       "    </tr>\n",
       "  </thead>\n",
       "  <tbody>\n",
       "    <tr>\n",
       "      <th>United States of America</th>\n",
       "      <td>74.401523</td>\n",
       "      <td>74.401523</td>\n",
       "    </tr>\n",
       "    <tr>\n",
       "      <th>India</th>\n",
       "      <td>11.996736</td>\n",
       "      <td>11.996736</td>\n",
       "    </tr>\n",
       "    <tr>\n",
       "      <th>United Kingdom</th>\n",
       "      <td>7.453754</td>\n",
       "      <td>7.453754</td>\n",
       "    </tr>\n",
       "    <tr>\n",
       "      <th>Canada</th>\n",
       "      <td>6.147987</td>\n",
       "      <td>6.147987</td>\n",
       "    </tr>\n",
       "  </tbody>\n",
       "</table>\n",
       "</div>"
      ],
      "text/plain": [
       "                          Absolute frequency  Percentage\n",
       "CountryLive                                             \n",
       "United States of America           74.401523   74.401523\n",
       "India                              11.996736   11.996736\n",
       "United Kingdom                      7.453754    7.453754\n",
       "Canada                              6.147987    6.147987"
      ]
     },
     "execution_count": 57,
     "metadata": {},
     "output_type": "execute_result"
    }
   ],
   "source": [
    "# Creating an absolute frequency table of countries where students live\n",
    "country_abs_ft = survey_no_nulls_df['CountryLive'].value_counts()\n",
    "\n",
    "# Creating an relative frequency table of countries where students live\n",
    "country_abs_ft = survey_no_nulls_df['CountryLive'].value_counts(normalize=True) * 100\n",
    "\n",
    "# Display the frequency tables in a more readable format\n",
    "pd.DataFrame(data={'Absolute frequency': country_abs_ft, \n",
    "                     'Percentage': country_abs_ft}\n",
    "            )"
   ]
  },
  {
   "attachments": {},
   "cell_type": "markdown",
   "id": "e1eb8976-1b60-42bf-9f3b-bd12b7418b31",
   "metadata": {},
   "source": [
    "---\n",
    "**Analysis Conclusion**\n",
    "\n",
    "In section we reduced the money spend on course to `$500` as the company's online course are only `$59.99` per-month and the large number of extreme outliers was affecting the results of the mean spend pre month per country.\n",
    "\n",
    "From there we re-analysis the mean spend per-month, per-country frequency distribution; the box plot; and lastly regenerated the frequency distribution of number of survey responses as a proportion with respect to the top four countries.\n",
    "\n",
    "From that analysis it is clear that the USA spends the most per-month and therefore, should be the first country selected for advertising targetting. The secound country is still a little difficult to determine from this analysis as their respective mean pre-month are all very similar, with India having the lowerest by less than `%10` when compared to the country with the second lowest mean spend pre month. However, India is a large country and has `%12` of the total survey respondents from this reduced dataframe (the second most behind the US). The size of India and it possibility for growth in this area should be understood further.\n",
    "\n",
    "**Final decision**\n",
    "\n",
    "Pass this analysis to the marketing team to discuss and provide further insight.\n",
    "\n",
    "---"
   ]
  },
  {
   "cell_type": "code",
   "execution_count": null,
   "id": "9fb35fb2-6b20-4b6d-92d3-8818bc4199aa",
   "metadata": {},
   "outputs": [],
   "source": []
  }
 ],
 "metadata": {
  "kernelspec": {
   "display_name": "Python 3 (ipykernel)",
   "language": "python",
   "name": "python3"
  },
  "language_info": {
   "codemirror_mode": {
    "name": "ipython",
    "version": 3
   },
   "file_extension": ".py",
   "mimetype": "text/x-python",
   "name": "python",
   "nbconvert_exporter": "python",
   "pygments_lexer": "ipython3",
   "version": "3.11.3"
  }
 },
 "nbformat": 4,
 "nbformat_minor": 5
}
