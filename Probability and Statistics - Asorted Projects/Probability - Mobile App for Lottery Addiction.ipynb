{
 "cells": [
  {
   "attachments": {},
   "cell_type": "markdown",
   "id": "22d7e63f-665f-4b58-9a3d-c2904f9e2e25",
   "metadata": {},
   "source": [
    "# Project: Mobile App for Lottery Addiction\n",
    "---"
   ]
  },
  {
   "attachments": {},
   "cell_type": "markdown",
   "id": "6dfe9467-7790-42bc-ad8e-d3092687a625",
   "metadata": {},
   "source": [
    "This is theoretical project where we are working for a medical insitute taht aims to prevent and treat gambling addictions and wants to build a dedicated mobile app to help lottery addicts better estimate their chances of winning. In this project we will be working on creating the 'logical core' of the app and calculating probabilities.\n",
    "\n",
    "For the apps first version we will be focusing on the [6/48 lottery](https://en.wikipedia.org/wiki/Lotto_6/49) and building functions that enable users answer questions like - What's the probability of...\n",
    "\n",
    "- Winning the big prize with a single ticket?\n",
    "- Winning the big prize if we play 40 different tickets (or any other number)?\n",
    "- Having at least five (or four, or three, or two) winning numbers on a single ticket?\n",
    "\n",
    "To answer these questions we will be conducting theroetical and empirical probablility calculations. Empirically, we will be doing this using historical data fro the national 6/49 lottery of Canada. The data set can be found [here](https://www.kaggle.com/datasets/datascienceai/lottery-dataset).\n",
    "\n",
    "The data has been click from above source and is a file called `649.csv`:\n",
    "\n",
    "---\n",
    "\n",
    "|    |   PRODUCT |   DRAW NUMBER |   SEQUENCE NUMBER | DRAW DATE   |   NUMBER DRAWN 1 |   NUMBER DRAWN 2 |   NUMBER DRAWN 3 |   NUMBER DRAWN 4 |   NUMBER DRAWN 5 |   NUMBER DRAWN 6 |   BONUS NUMBER |\n",
    "|---:|----------:|--------------:|------------------:|:------------|-----------------:|-----------------:|-----------------:|-----------------:|-----------------:|-----------------:|---------------:|\n",
    "|  0 |       649 |             1 |                 0 | 6/12/1982   |                3 |               11 |               12 |               14 |               41 |               43 |             13 |\n",
    "|  1 |       649 |             2 |                 0 | 6/19/1982   |                8 |               33 |               36 |               37 |               39 |               41 |              9 |\n",
    "|  2 |       649 |             3 |                 0 | 6/26/1982   |                1 |                6 |               23 |               24 |               27 |               39 |             34 |\n",
    "\n",
    "The data set contains historical data for 3,665 drawings (each row shows data for a single drawing), dating from 1982 to 2018. For each drawing, we can find the six numbers drawn in the following six columns:\n",
    "\n",
    "- `NUMBER DRAWN 1`\n",
    "- `NUMBER DRAWN 2`\n",
    "- `NUMBER DRAWN 3`\n",
    "- `NUMBER DRAWN 4`\n",
    "- `NUMBER DRAWN 5`\n",
    "- `NUMBER DRAWN 6`\n",
    "\n",
    "\n",
    "---"
   ]
  },
  {
   "cell_type": "code",
   "execution_count": 1,
   "id": "14ef6049-1594-43c1-87b4-2c6966ecfb25",
   "metadata": {},
   "outputs": [],
   "source": [
    "# Importing libraries used throughout this lession\n",
    "import pandas as pd\n",
    "import numpy as np\n",
    "import matplotlib.pyplot as plt\n",
    "pd.options.display.max_columns = 80  # Avoid having displayed truncated output\n",
    "import pyperclip\n",
    "import seaborn as sns\n",
    "\n",
    "# import altair as alt  # for interactive plots\n",
    "# from IPython.display import Markdown # For displaying dataframes in markdown\n",
    "# for some web srapping \n",
    "# import requests  # for API requests\n",
    "# from bs4 import BeautifulSoup  # instead of using the above\n",
    "# import json  # for json conversion\n",
    "# from scipy.stats import percentileofscore\n",
    "# import datetime as dt\n",
    "# import re # for regular expressions\n",
    "# import altair as alt # for interactive plots\n",
    "# from IPython.display import HTML  # for display HTML in jupyterlab\n",
    "# from IPython.display import display # for display more than one pandas df at once\n",
    "# importing requests: a library for making HTTP requests to APIs."
   ]
  },
  {
   "attachments": {},
   "cell_type": "markdown",
   "id": "6087e354-45cf-4f88-a7ee-c624ccab7d2b",
   "metadata": {},
   "source": [
    "## 1. Exploring the Data"
   ]
  },
  {
   "cell_type": "code",
   "execution_count": 2,
   "id": "0fb20a89-ac01-4eb0-bfaa-a65796e516e3",
   "metadata": {},
   "outputs": [],
   "source": [
    "# Reading 649.csv as pandas datafranme (df)\n",
    "lotto_df = pd.read_csv('data/649.csv', low_memory=0)\n",
    "\n",
    "# Copying first 3 rows to clipboard for markdown display above\n",
    "markdown_output = lotto_df.head(3).to_markdown()\n",
    "pyperclip.copy(markdown_output)"
   ]
  },
  {
   "cell_type": "code",
   "execution_count": 3,
   "id": "40afdeca-5b43-44b5-a5de-ea4fc9bb03ca",
   "metadata": {},
   "outputs": [
    {
     "name": "stdout",
     "output_type": "stream",
     "text": [
      "<class 'pandas.core.frame.DataFrame'>\n",
      "RangeIndex: 3665 entries, 0 to 3664\n",
      "Data columns (total 11 columns):\n",
      " #   Column           Non-Null Count  Dtype \n",
      "---  ------           --------------  ----- \n",
      " 0   PRODUCT          3665 non-null   int64 \n",
      " 1   DRAW NUMBER      3665 non-null   int64 \n",
      " 2   SEQUENCE NUMBER  3665 non-null   int64 \n",
      " 3   DRAW DATE        3665 non-null   object\n",
      " 4   NUMBER DRAWN 1   3665 non-null   int64 \n",
      " 5   NUMBER DRAWN 2   3665 non-null   int64 \n",
      " 6   NUMBER DRAWN 3   3665 non-null   int64 \n",
      " 7   NUMBER DRAWN 4   3665 non-null   int64 \n",
      " 8   NUMBER DRAWN 5   3665 non-null   int64 \n",
      " 9   NUMBER DRAWN 6   3665 non-null   int64 \n",
      " 10  BONUS NUMBER     3665 non-null   int64 \n",
      "dtypes: int64(10), object(1)\n",
      "memory usage: 315.1+ KB\n"
     ]
    }
   ],
   "source": [
    "lotto_df.info()"
   ]
  },
  {
   "cell_type": "code",
   "execution_count": 4,
   "id": "0604af49-a9dd-4266-8ae9-4601fe1c0492",
   "metadata": {},
   "outputs": [
    {
     "data": {
      "text/plain": [
       "(3665, 11)"
      ]
     },
     "execution_count": 4,
     "metadata": {},
     "output_type": "execute_result"
    }
   ],
   "source": [
    "lotto_df.shape"
   ]
  },
  {
   "attachments": {},
   "cell_type": "markdown",
   "id": "9a3b964f-1d15-4191-a526-a8f54726e738",
   "metadata": {},
   "source": [
    "## 2. Core Functions\n",
    "---"
   ]
  },
  {
   "attachments": {},
   "cell_type": "markdown",
   "id": "cba04d0f-25a5-4513-8af7-3a44f3a95046",
   "metadata": {},
   "source": [
    "This section is for creating to important functions that are used throughout out this project. Factorial and number of combinations outcomes (independent replacement events)."
   ]
  },
  {
   "cell_type": "code",
   "execution_count": 5,
   "id": "bc882565-b6d3-4ea0-8870-09d6d89add86",
   "metadata": {},
   "outputs": [],
   "source": [
    "def factorial(n):\n",
    "    '''\n",
    "        Calculate the factorial of a non-negative integer.\n",
    "\n",
    "        Parameters:\n",
    "        n (int): int for factorialising\n",
    "\n",
    "        Returns:\n",
    "            factorial (int): the factorial of n\n",
    "    '''\n",
    "    # Check if the input is negative\n",
    "    if n < 0:\n",
    "        # If the input is negative, raise a ValueError with a helpful error message\n",
    "        raise ValueError(\"Factorial is not defined for negative values\")\n",
    "    # Check if the input is 0\n",
    "    elif n == 0:\n",
    "        # If the input is 0, return 1, since 0! is defined as 1\n",
    "        return 1\n",
    "    else:\n",
    "        # If the input is a positive integer, use recursion to calculate the factorial\n",
    "        # Multiply the input by the factorial of the input minus 1, and return the result\n",
    "        return n * factorial(n-1)"
   ]
  },
  {
   "cell_type": "code",
   "execution_count": 6,
   "id": "609bc04b-020e-4aa0-882b-4f4cd25552c8",
   "metadata": {},
   "outputs": [],
   "source": [
    "def combinations(n, k):\n",
    "    '''\n",
    "        Calculate the number of combinations of k items from a group of n items.\n",
    "\n",
    "        Parameters:\n",
    "        n (int): the size of the group\n",
    "        k (int): the number of items to choose from the group\n",
    "\n",
    "        Returns:\n",
    "        num_combinations (int): the number of combinations\n",
    "    '''\n",
    "    # calculate the factorials of n, k, and n-k\n",
    "    n_factorial = factorial(n)\n",
    "    k_factorial = factorial(k)\n",
    "    n_minus_k_factorial = factorial(n - k)\n",
    "    \n",
    "    # calculate the number of combinations\n",
    "    num_combinations = n_factorial // (k_factorial * n_minus_k_factorial)\n",
    "    \n",
    "    return num_combinations"
   ]
  },
  {
   "attachments": {},
   "cell_type": "markdown",
   "id": "4545f03d-c249-4074-b96a-265785792032",
   "metadata": {},
   "source": [
    "## 3. One Ticket Probability\n",
    "---"
   ]
  },
  {
   "attachments": {},
   "cell_type": "markdown",
   "id": "ac63f16c-7a32-432e-809e-04297326e837",
   "metadata": {},
   "source": [
    "We are tasked with creating a function that can calculate the probability of winning the big prize for any given ticket. In a 6/49 lottery game, six numbers are drawn from a set of 49 numbers ranging from 1 to 49, and a player wins the big prize if all six numbers on their ticket match all six numbers drawn.\n",
    "\n",
    "The engineering team has provided us with the following details to keep in mind when writing this function:\n",
    "\n",
    "1. The user will input six different numbers from 1 to 49 within the app.\n",
    "2. These six numbers will be given to our function as a Python list input.\n",
    "3. The probability value should be printed in a way that's easily understandable for people without any probability training.\n",
    "\n",
    "To achieve this, we have written the `one_ticket_probability()` function which takes a list of six unique numbers as input and calculates the probability of winning the big prize for one ticket.\n",
    "\n",
    "The function calculates the total number of possible outcomes by using the `combinations()` function that we have previously written. It then determines the number of successful outcomes, which is always 1 for a single ticket. The probability of winning is calculated by dividing the number of successful outcomes by the total number of possible outcomes.\n",
    "\n",
    "Finally, the function prints the probability value in a friendly way that is easy to understand for users, using the `str.format()` method to make the printed message more personalized with respect to the user's input.\n",
    "\n",
    "By following these steps, we have successfully created a function that can calculate the probability of winning the big prize for any given ticket and prints it in a user-friendly way."
   ]
  },
  {
   "cell_type": "code",
   "execution_count": 7,
   "id": "f171faf4-eaf9-4ef6-a445-846a30114f98",
   "metadata": {},
   "outputs": [],
   "source": [
    "def one_ticket_probability(numbers):\n",
    "    '''\n",
    "    Calculate the probability of winning the big prize in the 6/49 lottery game,\n",
    "    given a set of six numbers.\n",
    "    \n",
    "    Parameters:\n",
    "    numbers (list): a list of six unique numbers from 1 to 49\n",
    "    \n",
    "    Returns:\n",
    "    probability (float): probability of winning the big prize, rounded to 7 decimal places\n",
    "    '''\n",
    "    # calculate the total number of possible outcomes for a six-number lottery ticket\n",
    "    n_combinations = combinations(49, 6)\n",
    "    \n",
    "    # since the user is only entering one combination, the number of successful outcomes is 1\n",
    "    n_success = 1\n",
    "    \n",
    "    # calculate the probability of winning the big prize\n",
    "    probability = n_success / n_combinations\n",
    "    \n",
    "    # print the probability in a friendly way\n",
    "    message = \"Your chances of winning the big prize with the numbers {} are {:.7f}%.\"\n",
    "    print(message.format(numbers, probability * 100))\n",
    "    \n",
    "    return probability"
   ]
  },
  {
   "cell_type": "code",
   "execution_count": 8,
   "id": "82d80d55-b19c-4f68-b7ae-659907fed4c9",
   "metadata": {},
   "outputs": [
    {
     "name": "stdout",
     "output_type": "stream",
     "text": [
      "Your chances of winning the big prize with the numbers [2, 43, 22, 23, 11, 5] are 0.0000072%.\n"
     ]
    },
    {
     "data": {
      "text/plain": [
       "7.151123842018516e-08"
      ]
     },
     "execution_count": 8,
     "metadata": {},
     "output_type": "execute_result"
    }
   ],
   "source": [
    "test_input_1 = [2, 43, 22, 23, 11, 5]\n",
    "one_ticket_probability(test_input_1)"
   ]
  },
  {
   "cell_type": "code",
   "execution_count": 9,
   "id": "0334e3b1-31b4-490c-9473-3ebed5b65044",
   "metadata": {},
   "outputs": [
    {
     "name": "stdout",
     "output_type": "stream",
     "text": [
      "Your chances of winning the big prize with the numbers [9, 26, 41, 7, 15, 6] are 0.0000072%.\n"
     ]
    },
    {
     "data": {
      "text/plain": [
       "7.151123842018516e-08"
      ]
     },
     "execution_count": 9,
     "metadata": {},
     "output_type": "execute_result"
    }
   ],
   "source": [
    "test_input_2 = [9, 26, 41, 7, 15, 6]\n",
    "one_ticket_probability(test_input_2)"
   ]
  },
  {
   "attachments": {},
   "cell_type": "markdown",
   "id": "e3610efc-ef2c-4c3e-8bb2-55b7a56b2dfc",
   "metadata": {},
   "source": [
    "## 4. Function for Historical Data Check\n",
    "---"
   ]
  },
  {
   "attachments": {},
   "cell_type": "markdown",
   "id": "a0f2f77b-453e-4034-9a39-acbd18ae7398",
   "metadata": {},
   "source": [
    "From the dataframe `lotto_df` the engineering team told us that we need to be aware of the following details:\n",
    "\n",
    "- Inside the app, the user inputs six different numbers from 1 to 49.\n",
    "- Under the hood, the six numbers will come as a Python list and serve as an input to our function.\n",
    "- The engineering team wants us to write a function that prints:\n",
    "    - the number of times the combination selected occurred in the Canada data set; and\n",
    "    - the probability of winning the big prize in the next drawing with that combination."
   ]
  },
  {
   "cell_type": "code",
   "execution_count": 10,
   "id": "d1af078d-0798-45d1-9920-56d6ae9a30f0",
   "metadata": {},
   "outputs": [],
   "source": [
    "def extract_numbers(row: pd.Series):\n",
    "    \"\"\"\n",
    "        Extract the numbers from a pandas Series row that contain the string 'NUMBER DRAWN'\n",
    "        \n",
    "        Args:\n",
    "            row: a pandas Series row\n",
    "            \n",
    "        Returns:\n",
    "            A set of numbers extracted from the row that contains the string 'NUMBER DRAWN'\n",
    "    \"\"\"\n",
    "    \n",
    "    # Filter the row to include only columns with names containing 'NUMBER DRAWN'\n",
    "    filtered_row = row.filter(regex='NUMBER DRAWN')\n",
    "    \n",
    "    # Convert the filtered row to a set and return it\n",
    "    return set(filtered_row)"
   ]
  },
  {
   "cell_type": "code",
   "execution_count": 11,
   "id": "7af5d440-35e9-4176-a195-ce7f02d5f8a6",
   "metadata": {},
   "outputs": [
    {
     "data": {
      "text/plain": [
       "0    {3, 41, 11, 12, 43, 14}\n",
       "1    {33, 36, 37, 39, 8, 41}\n",
       "2     {1, 6, 39, 23, 24, 27}\n",
       "3     {3, 9, 10, 43, 13, 20}\n",
       "4    {34, 5, 14, 47, 21, 31}\n",
       "dtype: object"
      ]
     },
     "execution_count": 11,
     "metadata": {},
     "output_type": "execute_result"
    }
   ],
   "source": [
    "winning_numbers = lotto_df.apply(extract_numbers,  axis=1)\n",
    "winning_numbers.head(5)"
   ]
  },
  {
   "cell_type": "code",
   "execution_count": 12,
   "id": "f11d2be5-419e-4dfe-8aaf-dce852818535",
   "metadata": {},
   "outputs": [],
   "source": [
    "def check_historical_occurence(user_numbers: list[int], historical_numbers: pd.Series):\n",
    "    \"\"\"\n",
    "    Check the historical occurrence of a given combination of numbers.\n",
    "\n",
    "    Args:\n",
    "        user_numbers: A list of integers representing the user's chosen numbers.\n",
    "        historical_numbers: A pandas Series containing historical winning numbers.\n",
    "\n",
    "    Returns:\n",
    "        None. Prints a message to the console with the number of times the\n",
    "        combination has occurred and the user's chances of winning with that\n",
    "        combination.\n",
    "    \"\"\"\n",
    "\n",
    "    # Convert user_numbers to a set for efficient membership testing\n",
    "    user_numbers_set = set(user_numbers)\n",
    "\n",
    "    # Check how many times the user's combination has occurred in historical numbers\n",
    "    check_occurrence = historical_numbers == user_numbers_set\n",
    "    n_occurrences = check_occurrence.sum()\n",
    "\n",
    "    # Print the appropriate message based on whether the combination has occurred\n",
    "    if n_occurrences == 0:\n",
    "        print(f\"The combination {user_numbers} has never occurred.\")\n",
    "        print(\"Your chances of winning the big prize with this combination are \"\n",
    "              \"1 in 13,983,816.\")\n",
    "    else:\n",
    "        print(f\"The combination {user_numbers} has occurred {n_occurrences} times.\")\n",
    "        print(\"Your chances of winning the big prize with this combination are \"\n",
    "              \"1 in 13,983,816.\")\n"
   ]
  },
  {
   "cell_type": "code",
   "execution_count": 13,
   "id": "2e7b2482-1d6e-41bf-8760-65a31a4edead",
   "metadata": {},
   "outputs": [
    {
     "name": "stdout",
     "output_type": "stream",
     "text": [
      "The combination [33, 36, 37, 39, 8, 41] has occurred 1 times.\n",
      "Your chances of winning the big prize with this combination are 1 in 13,983,816.\n"
     ]
    }
   ],
   "source": [
    "test_input_3 = [33, 36, 37, 39, 8, 41]\n",
    "check_historical_occurence(test_input_3, winning_numbers)"
   ]
  },
  {
   "cell_type": "code",
   "execution_count": 14,
   "id": "0de107f4-7af9-47e8-9ca2-a60e7e7fff97",
   "metadata": {},
   "outputs": [
    {
     "name": "stdout",
     "output_type": "stream",
     "text": [
      "The combination [3, 2, 44, 22, 1, 44] has never occurred.\n",
      "Your chances of winning the big prize with this combination are 1 in 13,983,816.\n"
     ]
    }
   ],
   "source": [
    "test_input_4 = [3, 2, 44, 22, 1, 44]\n",
    "check_historical_occurence(test_input_4, winning_numbers)"
   ]
  },
  {
   "attachments": {},
   "cell_type": "markdown",
   "id": "84cd2d3f-9036-46c4-8c6f-d1d1d5ca29f4",
   "metadata": {},
   "source": [
    "## 5. Multi-ticket Probability\n",
    "---"
   ]
  },
  {
   "attachments": {},
   "cell_type": "markdown",
   "id": "47823f1b-dc86-4d81-be47-6b6909a85815",
   "metadata": {},
   "source": [
    "We aim to assist lottery players in accurately assessing their chances of winning. To that end, we'll create a function that enables users to calculate their odds of winning based on the number of tickets they plan to play.\n",
    "\n",
    "After consulting with the engineering team, we've determined that users will input the number of tickets they want to purchase (without specifying the particular combinations). Our function will receive an integer between 1 and 13,983,816, which is the maximum number of different tickets.\n",
    "\n",
    "To provide users with helpful information, our function will output details on the likelihood of winning the grand prize based on the number of tickets played."
   ]
  },
  {
   "cell_type": "code",
   "execution_count": 15,
   "id": "402287d5-febb-42d2-b329-175809fc86a9",
   "metadata": {},
   "outputs": [],
   "source": [
    "def multi_ticket_probability(num_tickets: int):\n",
    "    \"\"\"\n",
    "        Calculate the probability of winning the big prize in a lottery game \n",
    "        given the number of tickets played.\n",
    "\n",
    "        Args:\n",
    "            num_tickets (int): The number of different tickets played by the user.\n",
    "\n",
    "        Returns:\n",
    "            None. The function displays a message with the calculated probability.\n",
    "    \"\"\"\n",
    "    \n",
    "    # Calculate the total number of possible outcomes for the lottery\n",
    "    n_possible_outcomes = combinations(49, 6)\n",
    "    \n",
    "    # Calculate the probability of winning the big prize with the given number of tickets\n",
    "    winning_probs = num_tickets / n_possible_outcomes\n",
    "    \n",
    "    # Format the message to be displayed to the user\n",
    "    message = \"Your chances of winning the big prize with {} tickets is {:.7f}%.\"\n",
    "    \n",
    "    # Display the message to the user with the calculated probability\n",
    "    print(message.format(num_tickets, winning_probs * 100))"
   ]
  },
  {
   "cell_type": "code",
   "execution_count": 16,
   "id": "49efb3a9-cce3-4ef0-856f-d9b6f70e1498",
   "metadata": {},
   "outputs": [
    {
     "name": "stdout",
     "output_type": "stream",
     "text": [
      "Your chances of winning the big prize with 1 tickets is 0.0000072%.\n",
      "Your chances of winning the big prize with 10 tickets is 0.0000715%.\n",
      "Your chances of winning the big prize with 100 tickets is 0.0007151%.\n",
      "Your chances of winning the big prize with 10000 tickets is 0.0715112%.\n",
      "Your chances of winning the big prize with 1000000 tickets is 7.1511238%.\n",
      "Your chances of winning the big prize with 6991908 tickets is 50.0000000%.\n",
      "Your chances of winning the big prize with 13983816 tickets is 100.0000000%.\n"
     ]
    }
   ],
   "source": [
    "test = [1, 10, 100, 10000, 1000000, 6991908, 13983816]\n",
    "\n",
    "for i in test:\n",
    "    multi_ticket_probability(i)"
   ]
  },
  {
   "attachments": {},
   "cell_type": "markdown",
   "id": "69d4bf71-1924-47ce-8732-3b6032666c1d",
   "metadata": {},
   "source": [
    "## 6. Less Winning Numbers - Function\n",
    "---"
   ]
  },
  {
   "attachments": {},
   "cell_type": "markdown",
   "id": "723b7454-a21b-4be4-a818-7893c3b6544c",
   "metadata": {},
   "source": [
    "**Function to Calculate Probability of Winning with 2-5 Numbers**\n",
    "\n",
    "This function allows users to calculate the probability of having two, three, four, or five winning numbers in a 6/49 lottery.\n",
    "\n",
    "**Input:**\n",
    "\n",
    "- Six different numbers from 1 to 49.\n",
    "- An integer between 2 and 5 representing the number of winning numbers expected.\n",
    "\n",
    "**Output:**\n",
    "\n",
    "Information about the probability of having the inputted number of winning numbers.\n",
    "\n",
    "For example, to calculate the probability of having exactly five winning numbers, we can use the following steps:\n",
    "\n",
    "- From a ticket with six numbers, we can form six five-number combinations.\n",
    "- There are 44 possible successful outcomes in a lottery drawing for each of the six five-number combinations, but we need to leave out the outcome that matches all six numbers.\n",
    "- For each of the six five-number combinations, we have 43 possible successful outcomes.\n",
    "- Multiplying 6 by 43 gives us a total of 258 successful outcomes.\n",
    "- Since there are 258 successful outcomes and there are 13,983,816 total possible outcomes, the probability of having exactly five winning numbers for a single lottery ticket is 0.00001845.\n",
    "To calculate the probabilities for two, three, four, or five winning numbers, we can modify the above steps based on the number of expected winning numbers. The specific combination on the ticket is irrelevant, and we only need the integer between 2 and 5 representing the number of winning numbers expected."
   ]
  },
  {
   "cell_type": "code",
   "execution_count": 17,
   "id": "7d4a3839-ce21-49b5-aa5d-d0b1ec05ab41",
   "metadata": {},
   "outputs": [],
   "source": [
    "from math import comb as combinations\n",
    "\n",
    "def probability_less_6(n_winning_numbers: int):\n",
    "    \"\"\"\n",
    "        Calculates the probability of having less than 6 winning numbers in a 6/49 lottery, given the number of\n",
    "        winning numbers expected as an input.\n",
    "\n",
    "        Args:\n",
    "        n_winning_numbers (int): An integer between 2 and 5 representing the number of winning numbers expected.\n",
    "\n",
    "        Returns:\n",
    "        None: Prints the probability of having the inputted number of winning numbers, as well as the corresponding\n",
    "        simplified chance of winning as a ratio.\n",
    "\n",
    "    \"\"\"\n",
    "\n",
    "    # Calculate the number of possible combinations of tickets with n_winning_numbers\n",
    "    n_combinations_ticket = combinations(6, n_winning_numbers)\n",
    "    \n",
    "    # Calculate the number of possible combinations of the remaining numbers that are not on the ticket\n",
    "    n_combinations_remaining = combinations(49-6, 6 - n_winning_numbers)\n",
    "    \n",
    "    # Calculate the total number of successful outcomes for the given ticket\n",
    "    successful_outcomes = n_combinations_ticket * n_combinations_remaining\n",
    "    \n",
    "    # Calculate the total number of possible outcomes for any given ticket\n",
    "    n_combinations_total = combinations(49, 6)\n",
    "    \n",
    "    # Calculate the probability of having the inputted number of winning numbers for a single ticket\n",
    "    probability = successful_outcomes / n_combinations_total\n",
    "    \n",
    "    # Convert probability to a percentage\n",
    "    probability_percentage = probability * 100\n",
    "    \n",
    "    # Simplify the ratio of total possible outcomes to successful outcomes\n",
    "    combinations_simplified = round(n_combinations_total/successful_outcomes)\n",
    "    \n",
    "    # Print the results\n",
    "    print('''Your chances of having {} winning numbers with this ticket are {:.6f}%.\n",
    "In other words, you have a 1 in {:,} chances to win.'''.format(n_winning_numbers, probability_percentage,\n",
    "                                                               int(combinations_simplified)))\n"
   ]
  },
  {
   "cell_type": "code",
   "execution_count": 18,
   "id": "b22e05a0-dfe0-4490-9f70-58795e27bdec",
   "metadata": {},
   "outputs": [
    {
     "name": "stdout",
     "output_type": "stream",
     "text": [
      "Your chances of having 2 winning numbers with this ticket are 13.237803%.\n",
      "In other words, you have a 1 in 8 chances to win.\n",
      "\n",
      "\n",
      "Your chances of having 3 winning numbers with this ticket are 1.765040%.\n",
      "In other words, you have a 1 in 57 chances to win.\n",
      "\n",
      "\n",
      "Your chances of having 4 winning numbers with this ticket are 0.096862%.\n",
      "In other words, you have a 1 in 1,032 chances to win.\n",
      "\n",
      "\n",
      "Your chances of having 5 winning numbers with this ticket are 0.001845%.\n",
      "In other words, you have a 1 in 54,201 chances to win.\n",
      "\n",
      "\n"
     ]
    }
   ],
   "source": [
    "test = [2, 3, 4, 5]\n",
    "\n",
    "for i in test:\n",
    "    probability_less_6(i)\n",
    "    print('\\n')"
   ]
  },
  {
   "cell_type": "code",
   "execution_count": null,
   "id": "39c7ff0d-b078-4468-a131-a3dc5db2c729",
   "metadata": {},
   "outputs": [],
   "source": []
  }
 ],
 "metadata": {
  "kernelspec": {
   "display_name": "Python 3 (ipykernel)",
   "language": "python",
   "name": "python3"
  },
  "language_info": {
   "codemirror_mode": {
    "name": "ipython",
    "version": 3
   },
   "file_extension": ".py",
   "mimetype": "text/x-python",
   "name": "python",
   "nbconvert_exporter": "python",
   "pygments_lexer": "ipython3",
   "version": "3.11.3"
  }
 },
 "nbformat": 4,
 "nbformat_minor": 5
}
