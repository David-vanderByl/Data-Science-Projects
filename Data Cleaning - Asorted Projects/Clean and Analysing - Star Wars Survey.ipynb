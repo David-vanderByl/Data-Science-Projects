{
 "cells": [
  {
   "attachments": {},
   "cell_type": "markdown",
   "id": "fc5c9dd5-75e7-429b-9f80-8d28982a793d",
   "metadata": {},
   "source": [
    "# Project: Star Wars Survey"
   ]
  },
  {
   "cell_type": "code",
   "execution_count": 1,
   "id": "e961a890-f0ac-4f92-bb9a-a9bb23780fad",
   "metadata": {},
   "outputs": [],
   "source": [
    "# Importing libraries used throughout this lession\n",
    "import pandas as pd\n",
    "import matplotlib.pyplot as plt\n",
    "import numpy as np\n",
    "\n",
    "# for display more than one pandas df at once\n",
    "# from IPython.display import display \n",
    "# import re # for regular expressions\n",
    "# import seaborn as sns\n",
    "# import numpy as np\n",
    "# import matplotlib.pyplot as plt\n",
    "# import re "
   ]
  },
  {
   "attachments": {},
   "cell_type": "markdown",
   "id": "3bb48189-95a2-4c9b-abec-3b054a8e42e6",
   "metadata": {},
   "source": [
    "## Project Overview\n",
    "---"
   ]
  },
  {
   "attachments": {},
   "cell_type": "markdown",
   "id": "b368bc6c-320a-4ee0-9471-b470217f2517",
   "metadata": {},
   "source": [
    "While waiting for Star Wars: The Force Awakens to come out, the team at [FiveThirtyEight](https://fivethirtyeight.com/) became interested in answering some questions about Star Wars fans. In particular, they wondered: does the rest of America realize that “The Empire Strikes Back” is clearly the best of the bunch?\n",
    "\n",
    "The team needed to collect data addressing this question. To do this, they surveyed Star Wars fans using the online tool SurveyMonkey. They received 835 total responses, which you can download from their [GitHub repository](https://github.com/fivethirtyeight/data/tree/master/star-wars-survey).\n",
    "\n",
    "This is a simple project of exploring and cleaning the survey data.\n",
    "\n",
    "\n",
    "The data has several columns, including the following:\n",
    "\n",
    "- `RespondentID` — An anonymized ID for the respondent (person taking the survey)\n",
    "- `Gender` — the respondent's gender\n",
    "- `Age` — the respondent's age\n",
    "- `Household Income` — the respondent's income\n",
    "- `Education` — the respondent's education level\n",
    "- `Location (Census Region)` — the respondent's location\n",
    "- `Have you seen any of the 6 films in the Star Wars franchise?` — a Yes or No response\n",
    "- `Do you consider yourself to be a fan of the Star Wars film franchise?` — a `Yes` or `No` response\n",
    "\n",
    "There are several other columns containing answers to questions about the Star Wars movies. For some questions, the respondent had to check one or more boxes. This type of data is difficult to represent in a column. As a result, this dataset needs a lot of cleaning."
   ]
  },
  {
   "attachments": {},
   "cell_type": "markdown",
   "id": "a446f17b-d30b-43e9-96b9-08651df2e24e",
   "metadata": {},
   "source": [
    "## 1. Reading and Initial Exploration of Data\n",
    "---"
   ]
  },
  {
   "cell_type": "code",
   "execution_count": 2,
   "id": "a3642661-67b2-4bf2-8e38-c0f12e7943a8",
   "metadata": {},
   "outputs": [
    {
     "data": {
      "text/html": [
       "<div>\n",
       "<style scoped>\n",
       "    .dataframe tbody tr th:only-of-type {\n",
       "        vertical-align: middle;\n",
       "    }\n",
       "\n",
       "    .dataframe tbody tr th {\n",
       "        vertical-align: top;\n",
       "    }\n",
       "\n",
       "    .dataframe thead th {\n",
       "        text-align: right;\n",
       "    }\n",
       "</style>\n",
       "<table border=\"1\" class=\"dataframe\">\n",
       "  <thead>\n",
       "    <tr style=\"text-align: right;\">\n",
       "      <th></th>\n",
       "      <th>RespondentID</th>\n",
       "      <th>Have you seen any of the 6 films in the Star Wars franchise?</th>\n",
       "      <th>Do you consider yourself to be a fan of the Star Wars film franchise?</th>\n",
       "      <th>Which of the following Star Wars films have you seen? Please select all that apply.</th>\n",
       "      <th>Unnamed: 4</th>\n",
       "      <th>Unnamed: 5</th>\n",
       "      <th>Unnamed: 6</th>\n",
       "      <th>Unnamed: 7</th>\n",
       "      <th>Unnamed: 8</th>\n",
       "      <th>Please rank the Star Wars films in order of preference with 1 being your favorite film in the franchise and 6 being your least favorite film.</th>\n",
       "      <th>...</th>\n",
       "      <th>Unnamed: 28</th>\n",
       "      <th>Which character shot first?</th>\n",
       "      <th>Are you familiar with the Expanded Universe?</th>\n",
       "      <th>Do you consider yourself to be a fan of the Expanded Universe?</th>\n",
       "      <th>Do you consider yourself to be a fan of the Star Trek franchise?</th>\n",
       "      <th>Gender</th>\n",
       "      <th>Age</th>\n",
       "      <th>Household Income</th>\n",
       "      <th>Education</th>\n",
       "      <th>Location (Census Region)</th>\n",
       "    </tr>\n",
       "  </thead>\n",
       "  <tbody>\n",
       "    <tr>\n",
       "      <th>0</th>\n",
       "      <td>3292879998</td>\n",
       "      <td>Yes</td>\n",
       "      <td>Yes</td>\n",
       "      <td>Star Wars: Episode I  The Phantom Menace</td>\n",
       "      <td>Star Wars: Episode II  Attack of the Clones</td>\n",
       "      <td>Star Wars: Episode III  Revenge of the Sith</td>\n",
       "      <td>Star Wars: Episode IV  A New Hope</td>\n",
       "      <td>Star Wars: Episode V The Empire Strikes Back</td>\n",
       "      <td>Star Wars: Episode VI Return of the Jedi</td>\n",
       "      <td>3.0</td>\n",
       "      <td>...</td>\n",
       "      <td>Very favorably</td>\n",
       "      <td>I don't understand this question</td>\n",
       "      <td>Yes</td>\n",
       "      <td>No</td>\n",
       "      <td>No</td>\n",
       "      <td>Male</td>\n",
       "      <td>18-29</td>\n",
       "      <td>NaN</td>\n",
       "      <td>High school degree</td>\n",
       "      <td>South Atlantic</td>\n",
       "    </tr>\n",
       "    <tr>\n",
       "      <th>1</th>\n",
       "      <td>3292879538</td>\n",
       "      <td>No</td>\n",
       "      <td>NaN</td>\n",
       "      <td>NaN</td>\n",
       "      <td>NaN</td>\n",
       "      <td>NaN</td>\n",
       "      <td>NaN</td>\n",
       "      <td>NaN</td>\n",
       "      <td>NaN</td>\n",
       "      <td>NaN</td>\n",
       "      <td>...</td>\n",
       "      <td>NaN</td>\n",
       "      <td>NaN</td>\n",
       "      <td>NaN</td>\n",
       "      <td>NaN</td>\n",
       "      <td>Yes</td>\n",
       "      <td>Male</td>\n",
       "      <td>18-29</td>\n",
       "      <td>$0 - $24,999</td>\n",
       "      <td>Bachelor degree</td>\n",
       "      <td>West South Central</td>\n",
       "    </tr>\n",
       "    <tr>\n",
       "      <th>2</th>\n",
       "      <td>3292765271</td>\n",
       "      <td>Yes</td>\n",
       "      <td>No</td>\n",
       "      <td>Star Wars: Episode I  The Phantom Menace</td>\n",
       "      <td>Star Wars: Episode II  Attack of the Clones</td>\n",
       "      <td>Star Wars: Episode III  Revenge of the Sith</td>\n",
       "      <td>NaN</td>\n",
       "      <td>NaN</td>\n",
       "      <td>NaN</td>\n",
       "      <td>1.0</td>\n",
       "      <td>...</td>\n",
       "      <td>Unfamiliar (N/A)</td>\n",
       "      <td>I don't understand this question</td>\n",
       "      <td>No</td>\n",
       "      <td>NaN</td>\n",
       "      <td>No</td>\n",
       "      <td>Male</td>\n",
       "      <td>18-29</td>\n",
       "      <td>$0 - $24,999</td>\n",
       "      <td>High school degree</td>\n",
       "      <td>West North Central</td>\n",
       "    </tr>\n",
       "    <tr>\n",
       "      <th>3</th>\n",
       "      <td>3292763116</td>\n",
       "      <td>Yes</td>\n",
       "      <td>Yes</td>\n",
       "      <td>Star Wars: Episode I  The Phantom Menace</td>\n",
       "      <td>Star Wars: Episode II  Attack of the Clones</td>\n",
       "      <td>Star Wars: Episode III  Revenge of the Sith</td>\n",
       "      <td>Star Wars: Episode IV  A New Hope</td>\n",
       "      <td>Star Wars: Episode V The Empire Strikes Back</td>\n",
       "      <td>Star Wars: Episode VI Return of the Jedi</td>\n",
       "      <td>5.0</td>\n",
       "      <td>...</td>\n",
       "      <td>Very favorably</td>\n",
       "      <td>I don't understand this question</td>\n",
       "      <td>No</td>\n",
       "      <td>NaN</td>\n",
       "      <td>Yes</td>\n",
       "      <td>Male</td>\n",
       "      <td>18-29</td>\n",
       "      <td>$100,000 - $149,999</td>\n",
       "      <td>Some college or Associate degree</td>\n",
       "      <td>West North Central</td>\n",
       "    </tr>\n",
       "    <tr>\n",
       "      <th>4</th>\n",
       "      <td>3292731220</td>\n",
       "      <td>Yes</td>\n",
       "      <td>Yes</td>\n",
       "      <td>Star Wars: Episode I  The Phantom Menace</td>\n",
       "      <td>Star Wars: Episode II  Attack of the Clones</td>\n",
       "      <td>Star Wars: Episode III  Revenge of the Sith</td>\n",
       "      <td>Star Wars: Episode IV  A New Hope</td>\n",
       "      <td>Star Wars: Episode V The Empire Strikes Back</td>\n",
       "      <td>Star Wars: Episode VI Return of the Jedi</td>\n",
       "      <td>5.0</td>\n",
       "      <td>...</td>\n",
       "      <td>Somewhat favorably</td>\n",
       "      <td>Greedo</td>\n",
       "      <td>Yes</td>\n",
       "      <td>No</td>\n",
       "      <td>No</td>\n",
       "      <td>Male</td>\n",
       "      <td>18-29</td>\n",
       "      <td>$100,000 - $149,999</td>\n",
       "      <td>Some college or Associate degree</td>\n",
       "      <td>West North Central</td>\n",
       "    </tr>\n",
       "  </tbody>\n",
       "</table>\n",
       "<p>5 rows × 38 columns</p>\n",
       "</div>"
      ],
      "text/plain": [
       "   RespondentID Have you seen any of the 6 films in the Star Wars franchise?   \n",
       "0    3292879998                                                Yes            \\\n",
       "1    3292879538                                                 No             \n",
       "2    3292765271                                                Yes             \n",
       "3    3292763116                                                Yes             \n",
       "4    3292731220                                                Yes             \n",
       "\n",
       "  Do you consider yourself to be a fan of the Star Wars film franchise?   \n",
       "0                                                Yes                     \\\n",
       "1                                                NaN                      \n",
       "2                                                 No                      \n",
       "3                                                Yes                      \n",
       "4                                                Yes                      \n",
       "\n",
       "  Which of the following Star Wars films have you seen? Please select all that apply.   \n",
       "0           Star Wars: Episode I  The Phantom Menace                                   \\\n",
       "1                                                NaN                                    \n",
       "2           Star Wars: Episode I  The Phantom Menace                                    \n",
       "3           Star Wars: Episode I  The Phantom Menace                                    \n",
       "4           Star Wars: Episode I  The Phantom Menace                                    \n",
       "\n",
       "                                    Unnamed: 4   \n",
       "0  Star Wars: Episode II  Attack of the Clones  \\\n",
       "1                                          NaN   \n",
       "2  Star Wars: Episode II  Attack of the Clones   \n",
       "3  Star Wars: Episode II  Attack of the Clones   \n",
       "4  Star Wars: Episode II  Attack of the Clones   \n",
       "\n",
       "                                    Unnamed: 5   \n",
       "0  Star Wars: Episode III  Revenge of the Sith  \\\n",
       "1                                          NaN   \n",
       "2  Star Wars: Episode III  Revenge of the Sith   \n",
       "3  Star Wars: Episode III  Revenge of the Sith   \n",
       "4  Star Wars: Episode III  Revenge of the Sith   \n",
       "\n",
       "                          Unnamed: 6   \n",
       "0  Star Wars: Episode IV  A New Hope  \\\n",
       "1                                NaN   \n",
       "2                                NaN   \n",
       "3  Star Wars: Episode IV  A New Hope   \n",
       "4  Star Wars: Episode IV  A New Hope   \n",
       "\n",
       "                                     Unnamed: 7   \n",
       "0  Star Wars: Episode V The Empire Strikes Back  \\\n",
       "1                                           NaN   \n",
       "2                                           NaN   \n",
       "3  Star Wars: Episode V The Empire Strikes Back   \n",
       "4  Star Wars: Episode V The Empire Strikes Back   \n",
       "\n",
       "                                 Unnamed: 8   \n",
       "0  Star Wars: Episode VI Return of the Jedi  \\\n",
       "1                                       NaN   \n",
       "2                                       NaN   \n",
       "3  Star Wars: Episode VI Return of the Jedi   \n",
       "4  Star Wars: Episode VI Return of the Jedi   \n",
       "\n",
       "   Please rank the Star Wars films in order of preference with 1 being your favorite film in the franchise and 6 being your least favorite film.   \n",
       "0                                                3.0                                                                                              \\\n",
       "1                                                NaN                                                                                               \n",
       "2                                                1.0                                                                                               \n",
       "3                                                5.0                                                                                               \n",
       "4                                                5.0                                                                                               \n",
       "\n",
       "   ...         Unnamed: 28       Which character shot first?   \n",
       "0  ...      Very favorably  I don't understand this question  \\\n",
       "1  ...                 NaN                               NaN   \n",
       "2  ...    Unfamiliar (N/A)  I don't understand this question   \n",
       "3  ...      Very favorably  I don't understand this question   \n",
       "4  ...  Somewhat favorably                            Greedo   \n",
       "\n",
       "   Are you familiar with the Expanded Universe?   \n",
       "0                                           Yes  \\\n",
       "1                                           NaN   \n",
       "2                                            No   \n",
       "3                                            No   \n",
       "4                                           Yes   \n",
       "\n",
       "   Do you consider yourself to be a fan of the Expanded Universe?   \n",
       "0                                                 No               \\\n",
       "1                                                NaN                \n",
       "2                                                NaN                \n",
       "3                                                NaN                \n",
       "4                                                 No                \n",
       "\n",
       "   Do you consider yourself to be a fan of the Star Trek franchise? Gender   \n",
       "0                                                 No                  Male  \\\n",
       "1                                                Yes                  Male   \n",
       "2                                                 No                  Male   \n",
       "3                                                Yes                  Male   \n",
       "4                                                 No                  Male   \n",
       "\n",
       "     Age     Household Income                         Education   \n",
       "0  18-29                  NaN                High school degree  \\\n",
       "1  18-29         $0 - $24,999                   Bachelor degree   \n",
       "2  18-29         $0 - $24,999                High school degree   \n",
       "3  18-29  $100,000 - $149,999  Some college or Associate degree   \n",
       "4  18-29  $100,000 - $149,999  Some college or Associate degree   \n",
       "\n",
       "  Location (Census Region)  \n",
       "0           South Atlantic  \n",
       "1       West South Central  \n",
       "2       West North Central  \n",
       "3       West North Central  \n",
       "4       West North Central  \n",
       "\n",
       "[5 rows x 38 columns]"
      ]
     },
     "execution_count": 2,
     "metadata": {},
     "output_type": "execute_result"
    }
   ],
   "source": [
    "# reading the dataset as a pandas dataframe\n",
    "star_wars = pd.read_csv(\"data/star_wars.csv\", encoding=\"ISO-8859-1\")\n",
    "star_wars.head()"
   ]
  },
  {
   "attachments": {},
   "cell_type": "markdown",
   "id": "b2da183c-1253-4153-b253-c2766e37c32c",
   "metadata": {},
   "source": [
    "---\n",
    "**Observations from above graph**\n",
    "\n",
    "Some of the column names are either too long and overly descriptive or undescriptive.\n",
    "\n",
    "---"
   ]
  },
  {
   "attachments": {},
   "cell_type": "markdown",
   "id": "15d7a316-15dd-426f-9292-7e8a5db1d7f7",
   "metadata": {},
   "source": [
    "## 2. Cleaning and Mapping Yes/No Columns\n",
    "---"
   ]
  },
  {
   "attachments": {},
   "cell_type": "markdown",
   "id": "7a62f4d3-04e2-4774-8a7d-4023fb0aaea0",
   "metadata": {},
   "source": [
    "The columns of interest here are: \n",
    "\n",
    " - `Have you seen any of the 6 films in the Star Wars franchise?`\n",
    " - `Do you consider yourself to be a fan of the Star Wars film franchise?`\n",
    " \n",
    "The task here is to convert the Yes/No columns into boolean True/False as this can be used for indexing."
   ]
  },
  {
   "cell_type": "code",
   "execution_count": 3,
   "id": "7c061cc4-6480-46fd-8c1a-c2e2a3cc0315",
   "metadata": {},
   "outputs": [],
   "source": [
    "# yes/no dictionary for mapping changes \n",
    "yes_no = {\n",
    "    \"Yes\": True,\n",
    "    \"No\": False\n",
    "}\n",
    "\n",
    "# mapping changes to the columns of interest using the series.map() method\n",
    "star_wars['Have you seen any of the 6 films in the Star Wars franchise?'] = (\n",
    "    star_wars['Have you seen any of the 6 films in the Star Wars franchise?'].map(yes_no)\n",
    ")\n",
    "\n",
    "star_wars['Do you consider yourself to be a fan of the Star Wars film franchise?'] = (\n",
    "    star_wars['Do you consider yourself to be a fan of the Star Wars film franchise?'].map(yes_no)\n",
    ")"
   ]
  },
  {
   "cell_type": "code",
   "execution_count": 4,
   "id": "912f1ddd-15eb-4960-9c05-b94ed93194e6",
   "metadata": {},
   "outputs": [
    {
     "data": {
      "text/plain": [
       "Have you seen any of the 6 films in the Star Wars franchise?\n",
       "True     936\n",
       "False    250\n",
       "Name: count, dtype: int64"
      ]
     },
     "execution_count": 4,
     "metadata": {},
     "output_type": "execute_result"
    }
   ],
   "source": [
    "# checking the changes have taken affect via a freq table\n",
    "star_wars['Have you seen any of the 6 films in the Star Wars franchise?'].value_counts(dropna=False)"
   ]
  },
  {
   "cell_type": "code",
   "execution_count": 5,
   "id": "7f44346a-16be-458d-b781-db355c645e70",
   "metadata": {},
   "outputs": [
    {
     "data": {
      "text/plain": [
       "Do you consider yourself to be a fan of the Star Wars film franchise?\n",
       "True     552\n",
       "NaN      350\n",
       "False    284\n",
       "Name: count, dtype: int64"
      ]
     },
     "execution_count": 5,
     "metadata": {},
     "output_type": "execute_result"
    }
   ],
   "source": [
    "star_wars['Do you consider yourself to be a fan of the Star Wars film franchise?'].value_counts(dropna=False)"
   ]
  },
  {
   "attachments": {},
   "cell_type": "markdown",
   "id": "a4a18809-3072-4333-8520-8ba8515f56af",
   "metadata": {},
   "source": [
    "## 3. Cleaning and Mapping Checkbox Columns\n",
    "---"
   ]
  },
  {
   "attachments": {},
   "cell_type": "markdown",
   "id": "ca5c488b-1a11-460b-9443-5889ccc7edd3",
   "metadata": {},
   "source": [
    "The next six columns represent a single checkbox question. The columns for this question are:\n",
    "\n",
    "- `Which of the following Star Wars films have you seen? Please select all that apply.` — whether or not the respondent saw `Star Wars: Episode I The Phantom Menace.`\n",
    "- `Unnamed: 4` — whether or not the respondent saw `Star Wars: Episode II Attack of the Clones.`\n",
    "- `Unnamed: 5` — whether or not the respondent saw `Star Wars: Episode III Revenge of the Sith.`\n",
    "- `Unnamed: 6` — whether or not the respondent saw `Star Wars: Episode IV A New Hope.`\n",
    "- `Unnamed: 7` — whether or not the respondent saw `Star Wars: Episode V The Empire Strikes Back.`\n",
    "- `Unnamed: 8` — whether or not the respondent saw `Star Wars: Episode VI Return of the Jedi.`\n",
    "\n"
   ]
  },
  {
   "cell_type": "code",
   "execution_count": 6,
   "id": "a39efd4c-694c-473a-a57e-6c6b2a77a237",
   "metadata": {},
   "outputs": [
    {
     "data": {
      "text/plain": [
       "Index(['Which of the following Star Wars films have you seen? Please select all that apply.',\n",
       "       'Unnamed: 4', 'Unnamed: 5', 'Unnamed: 6', 'Unnamed: 7', 'Unnamed: 8'],\n",
       "      dtype='object')"
      ]
     },
     "execution_count": 6,
     "metadata": {},
     "output_type": "execute_result"
    }
   ],
   "source": [
    "# pandas series index (list) of columns of interest\n",
    "movie_cols = star_wars.columns[3:9]\n",
    "movie_cols"
   ]
  },
  {
   "cell_type": "code",
   "execution_count": 7,
   "id": "763ecc22-60c0-40d2-b133-b15055f09cb1",
   "metadata": {},
   "outputs": [],
   "source": [
    "# creating a list of the unique entries in the columns of interest\n",
    "unique_movies = np.concatenate([star_wars[column].dropna().unique() \n",
    "                                for column in star_wars.columns[3:9]])"
   ]
  },
  {
   "cell_type": "code",
   "execution_count": 8,
   "id": "294375e1-a998-4850-8211-c5e427edadf4",
   "metadata": {},
   "outputs": [
    {
     "data": {
      "text/plain": [
       "array(['Star Wars: Episode I  The Phantom Menace',\n",
       "       'Star Wars: Episode II  Attack of the Clones',\n",
       "       'Star Wars: Episode III  Revenge of the Sith',\n",
       "       'Star Wars: Episode IV  A New Hope',\n",
       "       'Star Wars: Episode V The Empire Strikes Back',\n",
       "       'Star Wars: Episode VI Return of the Jedi'], dtype=object)"
      ]
     },
     "execution_count": 8,
     "metadata": {},
     "output_type": "execute_result"
    }
   ],
   "source": [
    "unique_movies"
   ]
  },
  {
   "cell_type": "code",
   "execution_count": 9,
   "id": "29f0794f-8339-4eb8-8818-e7f001fed7d1",
   "metadata": {},
   "outputs": [],
   "source": [
    "# change the elements in movie_cols to True or False\n",
    "for col, movie in zip(movie_cols, unique_movies):\n",
    "    \n",
    "    # mapping dict for element changes\n",
    "    movie_map = {\n",
    "        movie: True,\n",
    "        np.NaN: False\n",
    "    }\n",
    "    # mapping the changes\n",
    "    star_wars[col] = star_wars[col].map(movie_map)   "
   ]
  },
  {
   "cell_type": "code",
   "execution_count": 10,
   "id": "9f3864ff-5490-4d45-8c00-9994ae55fa62",
   "metadata": {},
   "outputs": [
    {
     "data": {
      "text/html": [
       "<div>\n",
       "<style scoped>\n",
       "    .dataframe tbody tr th:only-of-type {\n",
       "        vertical-align: middle;\n",
       "    }\n",
       "\n",
       "    .dataframe tbody tr th {\n",
       "        vertical-align: top;\n",
       "    }\n",
       "\n",
       "    .dataframe thead th {\n",
       "        text-align: right;\n",
       "    }\n",
       "</style>\n",
       "<table border=\"1\" class=\"dataframe\">\n",
       "  <thead>\n",
       "    <tr style=\"text-align: right;\">\n",
       "      <th></th>\n",
       "      <th>Which of the following Star Wars films have you seen? Please select all that apply.</th>\n",
       "      <th>Unnamed: 4</th>\n",
       "      <th>Unnamed: 5</th>\n",
       "      <th>Unnamed: 6</th>\n",
       "      <th>Unnamed: 7</th>\n",
       "      <th>Unnamed: 8</th>\n",
       "    </tr>\n",
       "  </thead>\n",
       "  <tbody>\n",
       "    <tr>\n",
       "      <th>0</th>\n",
       "      <td>True</td>\n",
       "      <td>True</td>\n",
       "      <td>True</td>\n",
       "      <td>True</td>\n",
       "      <td>True</td>\n",
       "      <td>True</td>\n",
       "    </tr>\n",
       "    <tr>\n",
       "      <th>1</th>\n",
       "      <td>False</td>\n",
       "      <td>False</td>\n",
       "      <td>False</td>\n",
       "      <td>False</td>\n",
       "      <td>False</td>\n",
       "      <td>False</td>\n",
       "    </tr>\n",
       "  </tbody>\n",
       "</table>\n",
       "</div>"
      ],
      "text/plain": [
       "   Which of the following Star Wars films have you seen? Please select all that apply.   \n",
       "0                                               True                                    \\\n",
       "1                                              False                                     \n",
       "\n",
       "   Unnamed: 4  Unnamed: 5  Unnamed: 6  Unnamed: 7  Unnamed: 8  \n",
       "0        True        True        True        True        True  \n",
       "1       False       False       False       False       False  "
      ]
     },
     "execution_count": 10,
     "metadata": {},
     "output_type": "execute_result"
    }
   ],
   "source": [
    "# Counting unique values in each column\n",
    "unique_elements = star_wars[movie_cols].apply(lambda x: x.unique())\n",
    "unique_elements"
   ]
  },
  {
   "cell_type": "code",
   "execution_count": 11,
   "id": "6d88a2b3-8c80-41b6-a984-89d4ab15734a",
   "metadata": {},
   "outputs": [
    {
     "data": {
      "text/plain": [
       "{'Which of the following Star Wars films have you seen? Please select all that apply.': 'seen_1',\n",
       " 'Unnamed: 4': 'seen_2',\n",
       " 'Unnamed: 5': 'seen_3',\n",
       " 'Unnamed: 6': 'seen_4',\n",
       " 'Unnamed: 7': 'seen_5',\n",
       " 'Unnamed: 8': 'seen_6'}"
      ]
     },
     "execution_count": 11,
     "metadata": {},
     "output_type": "execute_result"
    }
   ],
   "source": [
    "# changing column names\n",
    "# mapping dict \n",
    "movie_col_names = {}\n",
    "# new column name to movie name dictionary\n",
    "movie_names_map = {}\n",
    "# movie list\n",
    "movie_list = []\n",
    "# movie number\n",
    "movie_num = 1\n",
    "\n",
    "# Creating a mapping dictionary for change movie column names\n",
    "for col, movie in zip(movie_cols, unique_movies):\n",
    "    new_col_name = f'seen_{movie_num}'\n",
    "    movie_col_names[col] = new_col_name\n",
    "    movie_names_map[new_col_name] = movie\n",
    "    movie_list.append(movie)\n",
    "    movie_num += 1\n",
    "\n",
    "movie_col_names"
   ]
  },
  {
   "cell_type": "code",
   "execution_count": 12,
   "id": "bb01bbf0-8274-4a61-a612-07630194d55a",
   "metadata": {},
   "outputs": [
    {
     "data": {
      "text/plain": [
       "{'seen_1': 'Star Wars: Episode I  The Phantom Menace',\n",
       " 'seen_2': 'Star Wars: Episode II  Attack of the Clones',\n",
       " 'seen_3': 'Star Wars: Episode III  Revenge of the Sith',\n",
       " 'seen_4': 'Star Wars: Episode IV  A New Hope',\n",
       " 'seen_5': 'Star Wars: Episode V The Empire Strikes Back',\n",
       " 'seen_6': 'Star Wars: Episode VI Return of the Jedi'}"
      ]
     },
     "execution_count": 12,
     "metadata": {},
     "output_type": "execute_result"
    }
   ],
   "source": [
    "# this a dictionary to map the moive column names back to the movie name\n",
    "movie_names_map"
   ]
  },
  {
   "cell_type": "code",
   "execution_count": 13,
   "id": "7aa693fa-8091-4c40-8485-c9aeb8e9d944",
   "metadata": {},
   "outputs": [
    {
     "data": {
      "text/html": [
       "<div>\n",
       "<style scoped>\n",
       "    .dataframe tbody tr th:only-of-type {\n",
       "        vertical-align: middle;\n",
       "    }\n",
       "\n",
       "    .dataframe tbody tr th {\n",
       "        vertical-align: top;\n",
       "    }\n",
       "\n",
       "    .dataframe thead th {\n",
       "        text-align: right;\n",
       "    }\n",
       "</style>\n",
       "<table border=\"1\" class=\"dataframe\">\n",
       "  <thead>\n",
       "    <tr style=\"text-align: right;\">\n",
       "      <th></th>\n",
       "      <th>RespondentID</th>\n",
       "      <th>Have you seen any of the 6 films in the Star Wars franchise?</th>\n",
       "      <th>Do you consider yourself to be a fan of the Star Wars film franchise?</th>\n",
       "      <th>seen_1</th>\n",
       "      <th>seen_2</th>\n",
       "      <th>seen_3</th>\n",
       "      <th>seen_4</th>\n",
       "      <th>seen_5</th>\n",
       "      <th>seen_6</th>\n",
       "      <th>Please rank the Star Wars films in order of preference with 1 being your favorite film in the franchise and 6 being your least favorite film.</th>\n",
       "      <th>...</th>\n",
       "      <th>Unnamed: 28</th>\n",
       "      <th>Which character shot first?</th>\n",
       "      <th>Are you familiar with the Expanded Universe?</th>\n",
       "      <th>Do you consider yourself to be a fan of the Expanded Universe?</th>\n",
       "      <th>Do you consider yourself to be a fan of the Star Trek franchise?</th>\n",
       "      <th>Gender</th>\n",
       "      <th>Age</th>\n",
       "      <th>Household Income</th>\n",
       "      <th>Education</th>\n",
       "      <th>Location (Census Region)</th>\n",
       "    </tr>\n",
       "  </thead>\n",
       "  <tbody>\n",
       "  </tbody>\n",
       "</table>\n",
       "<p>0 rows × 38 columns</p>\n",
       "</div>"
      ],
      "text/plain": [
       "Empty DataFrame\n",
       "Columns: [RespondentID, Have you seen any of the 6 films in the Star Wars franchise?, Do you consider yourself to be a fan of the Star Wars film franchise?, seen_1, seen_2, seen_3, seen_4, seen_5, seen_6, Please rank the Star Wars films in order of preference with 1 being your favorite film in the franchise and 6 being your least favorite film., Unnamed: 10, Unnamed: 11, Unnamed: 12, Unnamed: 13, Unnamed: 14, Please state whether you view the following characters favorably, unfavorably, or are unfamiliar with him/her., Unnamed: 16, Unnamed: 17, Unnamed: 18, Unnamed: 19, Unnamed: 20, Unnamed: 21, Unnamed: 22, Unnamed: 23, Unnamed: 24, Unnamed: 25, Unnamed: 26, Unnamed: 27, Unnamed: 28, Which character shot first?, Are you familiar with the Expanded Universe?, Do you consider yourself to be a fan of the Expanded Universe?, Do you consider yourself to be a fan of the Star Trek franchise?, Gender, Age, Household Income, Education, Location (Census Region)]\n",
       "Index: []\n",
       "\n",
       "[0 rows x 38 columns]"
      ]
     },
     "execution_count": 13,
     "metadata": {},
     "output_type": "execute_result"
    }
   ],
   "source": [
    "# changing movie column names and checking result\n",
    "star_wars = star_wars.rename(columns=movie_col_names)\n",
    "star_wars.head(0)"
   ]
  },
  {
   "attachments": {},
   "cell_type": "markdown",
   "id": "c6bd0c70-74a6-46de-a62b-a10b2c1955ff",
   "metadata": {},
   "source": [
    "## 4. Cleaning the Ranking Columns\n",
    "---"
   ]
  },
  {
   "attachments": {},
   "cell_type": "markdown",
   "id": "5656a809-7a9f-43bf-bb77-96562af7a7d5",
   "metadata": {},
   "source": [
    "The next six columns ask the respondent to rank the Star Wars movies in order from least to most favorite. 1 means the film was the most favorite, and 6 means it was the least favorite. Each of the following columns can contain the value `1`, `2`, `3`, `4`, `5`, `6`, or `NaN`:\n",
    "\n",
    "- `Please rank the Star Wars films in order of preference with 1 being your favorite film in the franchise and 6 being your least favorite film.` - How much the respondent liked `Star Wars: Episode I The Phantom Menace`\n",
    "- `Unnamed: 10` — How much the respondent liked `Star Wars: Episode II Attack of the Clones`\n",
    "- `Unnamed: 11` — How much the respondent liked `Star Wars: Episode III Revenge of the Sith`\n",
    "- `Unnamed: 12` — How much the respondent liked `Star Wars: Episode IV A New Hope`\n",
    "- `Unnamed: 13` — How much the respondent liked `Star Wars: Episode V The Empire Strikes Back`\n",
    "- `Unnamed: 14` — How much the respondent liked `Star Wars: Episode VI Return of the Jedi`"
   ]
  },
  {
   "cell_type": "code",
   "execution_count": 14,
   "id": "3ad1476f-96fd-499f-aee2-78d6d91d3ae1",
   "metadata": {},
   "outputs": [
    {
     "data": {
      "text/html": [
       "<div>\n",
       "<style scoped>\n",
       "    .dataframe tbody tr th:only-of-type {\n",
       "        vertical-align: middle;\n",
       "    }\n",
       "\n",
       "    .dataframe tbody tr th {\n",
       "        vertical-align: top;\n",
       "    }\n",
       "\n",
       "    .dataframe thead th {\n",
       "        text-align: right;\n",
       "    }\n",
       "</style>\n",
       "<table border=\"1\" class=\"dataframe\">\n",
       "  <thead>\n",
       "    <tr style=\"text-align: right;\">\n",
       "      <th></th>\n",
       "      <th>Please rank the Star Wars films in order of preference with 1 being your favorite film in the franchise and 6 being your least favorite film.</th>\n",
       "      <th>Unnamed: 10</th>\n",
       "      <th>Unnamed: 11</th>\n",
       "      <th>Unnamed: 12</th>\n",
       "      <th>Unnamed: 13</th>\n",
       "      <th>Unnamed: 14</th>\n",
       "    </tr>\n",
       "  </thead>\n",
       "  <tbody>\n",
       "    <tr>\n",
       "      <th>0</th>\n",
       "      <td>3.0</td>\n",
       "      <td>2.0</td>\n",
       "      <td>1.0</td>\n",
       "      <td>4.0</td>\n",
       "      <td>5.0</td>\n",
       "      <td>6.0</td>\n",
       "    </tr>\n",
       "    <tr>\n",
       "      <th>1</th>\n",
       "      <td>NaN</td>\n",
       "      <td>NaN</td>\n",
       "      <td>NaN</td>\n",
       "      <td>NaN</td>\n",
       "      <td>NaN</td>\n",
       "      <td>NaN</td>\n",
       "    </tr>\n",
       "    <tr>\n",
       "      <th>2</th>\n",
       "      <td>1.0</td>\n",
       "      <td>6.0</td>\n",
       "      <td>3.0</td>\n",
       "      <td>2.0</td>\n",
       "      <td>4.0</td>\n",
       "      <td>3.0</td>\n",
       "    </tr>\n",
       "    <tr>\n",
       "      <th>3</th>\n",
       "      <td>5.0</td>\n",
       "      <td>4.0</td>\n",
       "      <td>6.0</td>\n",
       "      <td>6.0</td>\n",
       "      <td>1.0</td>\n",
       "      <td>2.0</td>\n",
       "    </tr>\n",
       "    <tr>\n",
       "      <th>4</th>\n",
       "      <td>6.0</td>\n",
       "      <td>5.0</td>\n",
       "      <td>4.0</td>\n",
       "      <td>3.0</td>\n",
       "      <td>2.0</td>\n",
       "      <td>1.0</td>\n",
       "    </tr>\n",
       "    <tr>\n",
       "      <th>5</th>\n",
       "      <td>4.0</td>\n",
       "      <td>1.0</td>\n",
       "      <td>5.0</td>\n",
       "      <td>1.0</td>\n",
       "      <td>3.0</td>\n",
       "      <td>4.0</td>\n",
       "    </tr>\n",
       "    <tr>\n",
       "      <th>6</th>\n",
       "      <td>2.0</td>\n",
       "      <td>3.0</td>\n",
       "      <td>2.0</td>\n",
       "      <td>5.0</td>\n",
       "      <td>6.0</td>\n",
       "      <td>5.0</td>\n",
       "    </tr>\n",
       "  </tbody>\n",
       "</table>\n",
       "</div>"
      ],
      "text/plain": [
       "   Please rank the Star Wars films in order of preference with 1 being your favorite film in the franchise and 6 being your least favorite film.   \n",
       "0                                                3.0                                                                                              \\\n",
       "1                                                NaN                                                                                               \n",
       "2                                                1.0                                                                                               \n",
       "3                                                5.0                                                                                               \n",
       "4                                                6.0                                                                                               \n",
       "5                                                4.0                                                                                               \n",
       "6                                                2.0                                                                                               \n",
       "\n",
       "   Unnamed: 10  Unnamed: 11  Unnamed: 12  Unnamed: 13  Unnamed: 14  \n",
       "0          2.0          1.0          4.0          5.0          6.0  \n",
       "1          NaN          NaN          NaN          NaN          NaN  \n",
       "2          6.0          3.0          2.0          4.0          3.0  \n",
       "3          4.0          6.0          6.0          1.0          2.0  \n",
       "4          5.0          4.0          3.0          2.0          1.0  \n",
       "5          1.0          5.0          1.0          3.0          4.0  \n",
       "6          3.0          2.0          5.0          6.0          5.0  "
      ]
     },
     "execution_count": 14,
     "metadata": {},
     "output_type": "execute_result"
    }
   ],
   "source": [
    "# Counting unique values in each column\n",
    "ranking_cols = star_wars.columns[9:15]\n",
    "unique_rank = star_wars[ranking_cols].apply(lambda x: x.unique())\n",
    "unique_rank"
   ]
  },
  {
   "attachments": {},
   "cell_type": "markdown",
   "id": "ee5cd795-3c57-4ec6-8de0-09e626dd4723",
   "metadata": {},
   "source": [
    "---\n",
    "**Observations from above graph**\n",
    "\n",
    "The values in the columns of interest are already floats so no need to convert them; however, below is how this conversion could be achieved\n",
    "\n",
    "---"
   ]
  },
  {
   "cell_type": "code",
   "execution_count": 15,
   "id": "a930ad7e-c87d-48ba-b12a-c7e7e03225f2",
   "metadata": {},
   "outputs": [
    {
     "data": {
      "text/html": [
       "<div>\n",
       "<style scoped>\n",
       "    .dataframe tbody tr th:only-of-type {\n",
       "        vertical-align: middle;\n",
       "    }\n",
       "\n",
       "    .dataframe tbody tr th {\n",
       "        vertical-align: top;\n",
       "    }\n",
       "\n",
       "    .dataframe thead th {\n",
       "        text-align: right;\n",
       "    }\n",
       "</style>\n",
       "<table border=\"1\" class=\"dataframe\">\n",
       "  <thead>\n",
       "    <tr style=\"text-align: right;\">\n",
       "      <th></th>\n",
       "      <th>Please rank the Star Wars films in order of preference with 1 being your favorite film in the franchise and 6 being your least favorite film.</th>\n",
       "      <th>Unnamed: 10</th>\n",
       "      <th>Unnamed: 11</th>\n",
       "      <th>Unnamed: 12</th>\n",
       "      <th>Unnamed: 13</th>\n",
       "      <th>Unnamed: 14</th>\n",
       "    </tr>\n",
       "  </thead>\n",
       "  <tbody>\n",
       "    <tr>\n",
       "      <th>0</th>\n",
       "      <td>3.0</td>\n",
       "      <td>2.0</td>\n",
       "      <td>1.0</td>\n",
       "      <td>4.0</td>\n",
       "      <td>5.0</td>\n",
       "      <td>6.0</td>\n",
       "    </tr>\n",
       "    <tr>\n",
       "      <th>1</th>\n",
       "      <td>NaN</td>\n",
       "      <td>NaN</td>\n",
       "      <td>NaN</td>\n",
       "      <td>NaN</td>\n",
       "      <td>NaN</td>\n",
       "      <td>NaN</td>\n",
       "    </tr>\n",
       "    <tr>\n",
       "      <th>2</th>\n",
       "      <td>1.0</td>\n",
       "      <td>6.0</td>\n",
       "      <td>3.0</td>\n",
       "      <td>2.0</td>\n",
       "      <td>4.0</td>\n",
       "      <td>3.0</td>\n",
       "    </tr>\n",
       "    <tr>\n",
       "      <th>3</th>\n",
       "      <td>5.0</td>\n",
       "      <td>4.0</td>\n",
       "      <td>6.0</td>\n",
       "      <td>6.0</td>\n",
       "      <td>1.0</td>\n",
       "      <td>2.0</td>\n",
       "    </tr>\n",
       "    <tr>\n",
       "      <th>4</th>\n",
       "      <td>6.0</td>\n",
       "      <td>5.0</td>\n",
       "      <td>4.0</td>\n",
       "      <td>3.0</td>\n",
       "      <td>2.0</td>\n",
       "      <td>1.0</td>\n",
       "    </tr>\n",
       "    <tr>\n",
       "      <th>5</th>\n",
       "      <td>4.0</td>\n",
       "      <td>1.0</td>\n",
       "      <td>5.0</td>\n",
       "      <td>1.0</td>\n",
       "      <td>3.0</td>\n",
       "      <td>4.0</td>\n",
       "    </tr>\n",
       "    <tr>\n",
       "      <th>6</th>\n",
       "      <td>2.0</td>\n",
       "      <td>3.0</td>\n",
       "      <td>2.0</td>\n",
       "      <td>5.0</td>\n",
       "      <td>6.0</td>\n",
       "      <td>5.0</td>\n",
       "    </tr>\n",
       "  </tbody>\n",
       "</table>\n",
       "</div>"
      ],
      "text/plain": [
       "   Please rank the Star Wars films in order of preference with 1 being your favorite film in the franchise and 6 being your least favorite film.   \n",
       "0                                                3.0                                                                                              \\\n",
       "1                                                NaN                                                                                               \n",
       "2                                                1.0                                                                                               \n",
       "3                                                5.0                                                                                               \n",
       "4                                                6.0                                                                                               \n",
       "5                                                4.0                                                                                               \n",
       "6                                                2.0                                                                                               \n",
       "\n",
       "   Unnamed: 10  Unnamed: 11  Unnamed: 12  Unnamed: 13  Unnamed: 14  \n",
       "0          2.0          1.0          4.0          5.0          6.0  \n",
       "1          NaN          NaN          NaN          NaN          NaN  \n",
       "2          6.0          3.0          2.0          4.0          3.0  \n",
       "3          4.0          6.0          6.0          1.0          2.0  \n",
       "4          5.0          4.0          3.0          2.0          1.0  \n",
       "5          1.0          5.0          1.0          3.0          4.0  \n",
       "6          3.0          2.0          5.0          6.0          5.0  "
      ]
     },
     "execution_count": 15,
     "metadata": {},
     "output_type": "execute_result"
    }
   ],
   "source": [
    "# converting columns to floats as the above shows that there are only numerical values\n",
    "star_wars[ranking_cols] = star_wars[ranking_cols].astype(float)\n",
    "unique_rank = star_wars[ranking_cols].apply(lambda x: x.unique())\n",
    "unique_rank"
   ]
  },
  {
   "cell_type": "code",
   "execution_count": 16,
   "id": "8c4c4ca9-5c3f-4e8b-88b7-fde31bfd74b7",
   "metadata": {},
   "outputs": [
    {
     "data": {
      "text/html": [
       "<div>\n",
       "<style scoped>\n",
       "    .dataframe tbody tr th:only-of-type {\n",
       "        vertical-align: middle;\n",
       "    }\n",
       "\n",
       "    .dataframe tbody tr th {\n",
       "        vertical-align: top;\n",
       "    }\n",
       "\n",
       "    .dataframe thead th {\n",
       "        text-align: right;\n",
       "    }\n",
       "</style>\n",
       "<table border=\"1\" class=\"dataframe\">\n",
       "  <thead>\n",
       "    <tr style=\"text-align: right;\">\n",
       "      <th></th>\n",
       "      <th>ranking_1</th>\n",
       "      <th>ranking_2</th>\n",
       "      <th>ranking_3</th>\n",
       "      <th>ranking_4</th>\n",
       "      <th>ranking_5</th>\n",
       "      <th>ranking_6</th>\n",
       "    </tr>\n",
       "  </thead>\n",
       "  <tbody>\n",
       "  </tbody>\n",
       "</table>\n",
       "</div>"
      ],
      "text/plain": [
       "Empty DataFrame\n",
       "Columns: [ranking_1, ranking_2, ranking_3, ranking_4, ranking_5, ranking_6]\n",
       "Index: []"
      ]
     },
     "execution_count": 16,
     "metadata": {},
     "output_type": "execute_result"
    }
   ],
   "source": [
    "# changing column names\n",
    "\n",
    "# mapping dict \n",
    "rank_col_map = {}\n",
    "# movie number\n",
    "rank_num = 1\n",
    "# list of new rank names\n",
    "new_ranking_col = []\n",
    "\n",
    "# Creating a mapping dictionary for change movie column names\n",
    "for col in ranking_cols:\n",
    "    # creating new rank column name\n",
    "    new_col_name = f'ranking_{rank_num}'\n",
    "    \n",
    "    # appending to mapping dictionary\n",
    "    rank_col_map[col] = new_col_name\n",
    "    \n",
    "    # appending new name to list of new names for indexing\n",
    "    new_ranking_col.append(new_col_name)\n",
    "    \n",
    "    # incrementing \n",
    "    rank_num += 1\n",
    "\n",
    "# changing movie column names and checking result\n",
    "star_wars = star_wars.rename(columns=rank_col_map)\n",
    "star_wars[new_ranking_col].head(0)"
   ]
  },
  {
   "attachments": {},
   "cell_type": "markdown",
   "id": "246c2b24-20a8-40d1-906c-2ab67915b360",
   "metadata": {},
   "source": [
    "## 5. Finding the Highest-Ranked Movie\n",
    "---"
   ]
  },
  {
   "cell_type": "code",
   "execution_count": 17,
   "id": "85a63536-22f4-4c56-8a5c-2223f434e48f",
   "metadata": {},
   "outputs": [
    {
     "data": {
      "text/plain": [
       "ranking_1    3.732934\n",
       "ranking_2    4.087321\n",
       "ranking_3    4.341317\n",
       "ranking_4    3.272727\n",
       "ranking_5    2.513158\n",
       "ranking_6    3.047847\n",
       "dtype: float64"
      ]
     },
     "execution_count": 17,
     "metadata": {},
     "output_type": "execute_result"
    }
   ],
   "source": [
    "# calculating the mean of each rank column\n",
    "mean_rank = star_wars[new_ranking_col].mean()\n",
    "mean_rank"
   ]
  },
  {
   "cell_type": "code",
   "execution_count": 18,
   "id": "36880032-9765-425f-a89e-3d1a53050a1a",
   "metadata": {},
   "outputs": [
    {
     "data": {
      "image/png": "[encoded data removed]",
      "text/plain": [
       "<Figure size 1000x400 with 1 Axes>"
      ]
     },
     "metadata": {},
     "output_type": "display_data"
    }
   ],
   "source": [
    "plt.figure(figsize=(10, 4))\n",
    "plt.barh(movie_list, mean_rank)\n",
    "plt.xlabel('Mean ranking')\n",
    "plt.ylabel('Movie')\n",
    "plt.title('Mean ranking for Star Wars movies')\n",
    "plt.show()"
   ]
  },
  {
   "attachments": {},
   "cell_type": "markdown",
   "id": "956cb383-a59d-48c0-9bd9-2184861c855e",
   "metadata": {},
   "source": [
    "---\n",
    "**Observations from above graph**\n",
    "\n",
    "The Episode III: Revenge of the Sith - Episode 3 (2005) with the highest average rank may indicate the follow:\n",
    " - The age of the participants who took the survey aligned with the release of this film\n",
    " - The movie ranked in the middle of most responses to the survey\n",
    " - The film was seen either lots or not that much when compared to the other movies\n",
    "\n",
    "---"
   ]
  },
  {
   "attachments": {},
   "cell_type": "markdown",
   "id": "ab1cd618-8937-4025-835b-b21c93d8084c",
   "metadata": {},
   "source": [
    "## 6. Finding the Most Viewed Movie\n",
    "---"
   ]
  },
  {
   "cell_type": "code",
   "execution_count": 19,
   "id": "9991a142-896e-4b81-a239-c18140073ee6",
   "metadata": {},
   "outputs": [
    {
     "data": {
      "text/plain": [
       "seen_1    673\n",
       "seen_2    571\n",
       "seen_3    550\n",
       "seen_4    607\n",
       "seen_5    758\n",
       "seen_6    738\n",
       "dtype: int64"
      ]
     },
     "execution_count": 19,
     "metadata": {},
     "output_type": "execute_result"
    }
   ],
   "source": [
    "# calculating the mean of each rank column\n",
    "most_seem = star_wars[movie_names_map.keys()].sum()\n",
    "most_seem"
   ]
  },
  {
   "cell_type": "code",
   "execution_count": 20,
   "id": "b3de21a7-1fac-4855-b4f1-3f442bf29c9c",
   "metadata": {},
   "outputs": [
    {
     "data": {
      "image/png": "[encoded data removed]",
      "text/plain": [
       "<Figure size 1000x400 with 1 Axes>"
      ]
     },
     "metadata": {},
     "output_type": "display_data"
    }
   ],
   "source": [
    "plt.figure(figsize=(10, 4))\n",
    "plt.barh(movie_list, most_seem)\n",
    "plt.xlabel('Most Seen')\n",
    "plt.ylabel('Movie')\n",
    "plt.title('Most seen Star Wars movies')\n",
    "plt.show()"
   ]
  },
  {
   "attachments": {},
   "cell_type": "markdown",
   "id": "32288965-1185-44a5-8221-5bd91b000138",
   "metadata": {},
   "source": [
    "---\n",
    "**Observations from above graph**\n",
    "\n",
    "The Episode III: Revenge of the Sith - Episode 3 (2005) with the highest average rank may was seen the least!\n",
    "\n",
    "---"
   ]
  },
  {
   "attachments": {},
   "cell_type": "markdown",
   "id": "c5889117-48bd-46b9-95a2-7917e2a93743",
   "metadata": {},
   "source": [
    "## 7. Exploring the Data by Binary Segments\n",
    "---"
   ]
  },
  {
   "attachments": {},
   "cell_type": "markdown",
   "id": "9efa2d5b-f9d5-4b84-b617-227a200e11f1",
   "metadata": {},
   "source": [
    "We know which movies the survey population as a whole has ranked the highest. Now let's examine how certain segments of the survey population responded. There are several columns that segment our data into two groups. Here are a few examples:\n",
    "\n",
    "- `Do you consider yourself to be a fan of the Star Wars film franchise?` — `True` or `False`\n",
    "- `Do you consider yourself to be a fan of the Star Trek franchise?` — `Yes` or `No`\n",
    "- `Gender` — `Male` or `Female`"
   ]
  },
  {
   "cell_type": "code",
   "execution_count": 21,
   "id": "ecbe6048-e825-4945-ab4f-90a7658f1440",
   "metadata": {},
   "outputs": [
    {
     "name": "stdout",
     "output_type": "stream",
     "text": [
      "Number of fans:  552\n",
      "Number of non-fans:  284\n"
     ]
    }
   ],
   "source": [
    "# splitting the data by fan and not_fan\n",
    "fan_col_name = 'Do you consider yourself to be a fan of the Star Wars film franchise?'\n",
    "fan = star_wars[star_wars[fan_col_name] == True]\n",
    "not_fan = star_wars[star_wars[fan_col_name] == False]\n",
    "\n",
    "print('Number of fans: ', len(fan))\n",
    "print('Number of non-fans: ', len(not_fan))"
   ]
  },
  {
   "attachments": {},
   "cell_type": "markdown",
   "id": "147b1de8-1779-4666-a1e6-7f3ed33326d3",
   "metadata": {},
   "source": [
    "### 7.1 Comparing the Average Movie Ranking of Fans and Not Fans"
   ]
  },
  {
   "cell_type": "code",
   "execution_count": 22,
   "id": "203dce68-0555-4dde-9577-8211e1249095",
   "metadata": {},
   "outputs": [
    {
     "data": {
      "image/png": "[encoded data removed]",
      "text/plain": [
       "<Figure size 640x480 with 1 Axes>"
      ]
     },
     "metadata": {},
     "output_type": "display_data"
    }
   ],
   "source": [
    "# Create a Pandas DataFrame with two sets of data\n",
    "data = {\n",
    "    'Fans': fan[new_ranking_col].mean().tolist(),\n",
    "    'Not Fans': not_fan[new_ranking_col].mean().tolist(),\n",
    "    'Movies': movie_list\n",
    "}\n",
    "\n",
    "df_fans_mean = pd.DataFrame(data)\n",
    "\n",
    "# Set the index to be the labels column\n",
    "df_fans_mean.set_index('Movies', inplace=True)\n",
    "\n",
    "# Plot the data\n",
    "ax = df_fans_mean.plot(kind='barh')\n",
    "\n",
    "# Set the legend and axis labels\n",
    "ax.legend(['Fans', 'Not Fans'])\n",
    "ax.set_xlabel('Average Movie Ranking')\n",
    "ax.set_ylabel('Movies')\n",
    "\n",
    "# Show the plot\n",
    "plt.show()\n"
   ]
  },
  {
   "attachments": {},
   "cell_type": "markdown",
   "id": "ec0cd5ab-abd7-4dbf-b0e3-86d9d6654355",
   "metadata": {},
   "source": [
    "### 7.2 Comparing the Most Seen Movie of Fans and Not Fans"
   ]
  },
  {
   "cell_type": "code",
   "execution_count": 23,
   "id": "8c0c81cf-f08f-43af-98d0-0089f423fbcc",
   "metadata": {},
   "outputs": [
    {
     "data": {
      "image/png": "[encoded data removed]",
      "text/plain": [
       "<Figure size 640x480 with 1 Axes>"
      ]
     },
     "metadata": {},
     "output_type": "display_data"
    }
   ],
   "source": [
    "# Create a Pandas DataFrame with two sets of data\n",
    "data = {\n",
    "    'Fans': fan[movie_names_map.keys()].sum().tolist(),\n",
    "    'Not Fans': not_fan[movie_names_map.keys()].sum().tolist(),\n",
    "    'Movies': movie_list\n",
    "}\n",
    "df_fans_mean = pd.DataFrame(data)\n",
    "\n",
    "# Set the index to be the labels column\n",
    "df_fans_mean.set_index('Movies', inplace=True)\n",
    "\n",
    "# Plot the data\n",
    "ax = df_fans_mean.plot(kind='barh')\n",
    "\n",
    "# Set the legend and axis labels\n",
    "ax.legend(['Fans', 'Not Fans'])\n",
    "ax.set_xlabel('Most seen Movie')\n",
    "ax.set_ylabel('Movies')\n",
    "\n",
    "# Show the plot\n",
    "plt.show()\n"
   ]
  },
  {
   "attachments": {},
   "cell_type": "markdown",
   "id": "b949bdef-86de-47a8-b41c-6fd149b20954",
   "metadata": {},
   "source": [
    "---\n",
    "**Observations from above graph**\n",
    "\n",
    "- The fans on average ranked `The Episode III: Revenge of the Sith - Episode 3 (2005)` higher than not fans\n",
    "- The fans ranked the episodes 1,2, and higher than non-fans and the non-fans rank the first trilogy, episodes 4, 5, and 6 higher than the fans on average\n",
    "- The trends for average ranker are similar for each movie when comparing the fans and non-fans\n",
    "- Fans watch a lot more of the movies than non-fans; however, it the number there was about twice the number of fans took the survey than non-fans\n",
    "\n",
    "- `Number of fans:  552`\n",
    "- `Number of non-fans:  284`\n",
    "\n",
    "\n",
    "\n",
    "\n",
    "**Movie List**\n",
    "1. Episode IV: A New Hope - Episode 4 (1977)\n",
    "2. Episode V: The Empire Strikes Back - Episode 5 (1980)\n",
    "3. Episode VI: Return of the Jedi - Episode 6 (1983)\n",
    "4. Episode I: The Phantom Menace - Episode 1 (1999)\n",
    "5. Episode II: Attack of the Clones - Episode 2 (2002)\n",
    "6. Episode III: Revenge of the Sith - Episode 3 (2005)\n",
    "\n",
    "These not in survey:\n",
    "7. Episode VII: The Force Awakens - Episode 7 (2015)\n",
    "8. Episode VIII: The Last Jedi - Episode 8 (2017)\n",
    "9. Episode IX: The Rise of Skywalker - Episode 9 (2019)\n",
    "\n",
    "---"
   ]
  },
  {
   "cell_type": "code",
   "execution_count": null,
   "id": "862170bf-dfd3-4ea9-a531-b4c34e8b5a23",
   "metadata": {},
   "outputs": [],
   "source": []
  }
 ],
 "metadata": {
  "kernelspec": {
   "display_name": "Python 3 (ipykernel)",
   "language": "python",
   "name": "python3"
  },
  "language_info": {
   "codemirror_mode": {
    "name": "ipython",
    "version": 3
   },
   "file_extension": ".py",
   "mimetype": "text/x-python",
   "name": "python",
   "nbconvert_exporter": "python",
   "pygments_lexer": "ipython3",
   "version": "3.11.3"
  }
 },
 "nbformat": 4,
 "nbformat_minor": 5
}
